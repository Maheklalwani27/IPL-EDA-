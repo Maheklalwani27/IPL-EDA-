{
  "nbformat": 4,
  "nbformat_minor": 0,
  "metadata": {
    "colab": {
      "name": "IPL analysis EDA.ipynb",
      "provenance": []
    },
    "kernelspec": {
      "name": "python3",
      "display_name": "Python 3"
    },
    "language_info": {
      "name": "python"
    }
  },
  "cells": [
    {
      "cell_type": "markdown",
      "source": [
        "### The Indian Premier League (IPL) is a professional men's Twenty20 cricket league, contested by ten teams based out of ten Indian cities.It is usually held between March and May of every year and has an exclusive window in the ICC Future Tours Programme.\n",
        "\n",
        "### The IPL is the most-attended cricket league in the world and in 2014 was ranked sixth by average attendance among all sports leagues.In 2010, the IPL became the first sporting event in the world to be broadcast live on YouTube."
      ],
      "metadata": {
        "id": "KP9Hxfq9Zw7K"
      }
    },
    {
      "cell_type": "markdown",
      "source": [
        "## **EDA PROJECT:**\n",
        "\n",
        "### Aim is to Analyse ans Visualize te data of IPL matched played between period 2008-2019 also to sum up the conclusions we found \n",
        "\n",
        "### Let's get started"
      ],
      "metadata": {
        "id": "wa71zDqW3ENY"
      }
    },
    {
      "cell_type": "markdown",
      "source": [
        "# **Approach we are going to follow throughtout**"
      ],
      "metadata": {
        "id": "rkDWk6jy3WKN"
      }
    },
    {
      "cell_type": "markdown",
      "source": [
        "INSTALLING REQUIRED LIABRARIES\n",
        "\n",
        "BASIC OPEARTIONS\n",
        "\n",
        "CLEANING OF DATA\n",
        "\n",
        "EXPLORATORY ANALYSIS"
      ],
      "metadata": {
        "id": "H_8h1wKA1BTv"
      }
    },
    {
      "cell_type": "markdown",
      "source": [
        "## **Basic Operations:**"
      ],
      "metadata": {
        "id": "HcuNDm3L3iLS"
      }
    },
    {
      "cell_type": "markdown",
      "source": [
        "### Importing usefull libraries"
      ],
      "metadata": {
        "id": "GommNzPJ3sMZ"
      }
    },
    {
      "cell_type": "code",
      "execution_count": null,
      "metadata": {
        "id": "TxrdkYsLZiM0"
      },
      "outputs": [],
      "source": [
        "import numpy as np\n",
        "import pandas as pd\n",
        "import matplotlib.pyplot as plt\n",
        "import seaborn as sns"
      ]
    },
    {
      "cell_type": "markdown",
      "source": [
        "### File path for loading CSV file"
      ],
      "metadata": {
        "id": "R9TsOOfC4F5W"
      }
    },
    {
      "cell_type": "code",
      "source": [
        "from google.colab import drive\n",
        "drive.mount('/content/drive')"
      ],
      "metadata": {
        "colab": {
          "base_uri": "https://localhost:8080/"
        },
        "id": "vk63aTD_4EZ5",
        "outputId": "9ac1d764-e7cc-4e93-b3a7-d9d89e407dbc"
      },
      "execution_count": null,
      "outputs": [
        {
          "output_type": "stream",
          "name": "stdout",
          "text": [
            "Drive already mounted at /content/drive; to attempt to forcibly remount, call drive.mount(\"/content/drive\", force_remount=True).\n"
          ]
        }
      ]
    },
    {
      "cell_type": "code",
      "source": [
        "data =pd.read_csv('/content/drive/MyDrive/matches.csv')"
      ],
      "metadata": {
        "id": "lU9WIeHb4Wxr"
      },
      "execution_count": null,
      "outputs": []
    },
    {
      "cell_type": "code",
      "source": [
        "data.head()"
      ],
      "metadata": {
        "colab": {
          "base_uri": "https://localhost:8080/",
          "height": 476
        },
        "id": "-RgwPPjt41_r",
        "outputId": "7df09303-56c6-4d66-9074-1b29a341573f"
      },
      "execution_count": null,
      "outputs": [
        {
          "output_type": "execute_result",
          "data": {
            "text/plain": [
              "   id    Season       city        date                        team1  \\\n",
              "0   1  IPL-2017  Hyderabad  05-04-2017          Sunrisers Hyderabad   \n",
              "1   2  IPL-2017       Pune  06-04-2017               Mumbai Indians   \n",
              "2   3  IPL-2017     Rajkot  07-04-2017                Gujarat Lions   \n",
              "3   4  IPL-2017     Indore  08-04-2017       Rising Pune Supergiant   \n",
              "4   5  IPL-2017  Bangalore  08-04-2017  Royal Challengers Bangalore   \n",
              "\n",
              "                         team2                  toss_winner toss_decision  \\\n",
              "0  Royal Challengers Bangalore  Royal Challengers Bangalore         field   \n",
              "1       Rising Pune Supergiant       Rising Pune Supergiant         field   \n",
              "2        Kolkata Knight Riders        Kolkata Knight Riders         field   \n",
              "3              Kings XI Punjab              Kings XI Punjab         field   \n",
              "4             Delhi Daredevils  Royal Challengers Bangalore           bat   \n",
              "\n",
              "   result  dl_applied                       winner  win_by_runs  \\\n",
              "0  normal           0          Sunrisers Hyderabad           35   \n",
              "1  normal           0       Rising Pune Supergiant            0   \n",
              "2  normal           0        Kolkata Knight Riders            0   \n",
              "3  normal           0              Kings XI Punjab            0   \n",
              "4  normal           0  Royal Challengers Bangalore           15   \n",
              "\n",
              "   win_by_wickets player_of_match                                      venue  \\\n",
              "0               0    Yuvraj Singh  Rajiv Gandhi International Stadium, Uppal   \n",
              "1               7       SPD Smith    Maharashtra Cricket Association Stadium   \n",
              "2              10         CA Lynn     Saurashtra Cricket Association Stadium   \n",
              "3               6      GJ Maxwell                     Holkar Cricket Stadium   \n",
              "4               0       KM Jadhav                      M Chinnaswamy Stadium   \n",
              "\n",
              "          umpire1        umpire2 umpire3  \n",
              "0     AY Dandekar       NJ Llong     NaN  \n",
              "1  A Nand Kishore         S Ravi     NaN  \n",
              "2     Nitin Menon      CK Nandan     NaN  \n",
              "3    AK Chaudhary  C Shamshuddin     NaN  \n",
              "4             NaN            NaN     NaN  "
            ],
            "text/html": [
              "\n",
              "  <div id=\"df-7489f73b-59d7-4021-8a06-c2d2422e1b5c\">\n",
              "    <div class=\"colab-df-container\">\n",
              "      <div>\n",
              "<style scoped>\n",
              "    .dataframe tbody tr th:only-of-type {\n",
              "        vertical-align: middle;\n",
              "    }\n",
              "\n",
              "    .dataframe tbody tr th {\n",
              "        vertical-align: top;\n",
              "    }\n",
              "\n",
              "    .dataframe thead th {\n",
              "        text-align: right;\n",
              "    }\n",
              "</style>\n",
              "<table border=\"1\" class=\"dataframe\">\n",
              "  <thead>\n",
              "    <tr style=\"text-align: right;\">\n",
              "      <th></th>\n",
              "      <th>id</th>\n",
              "      <th>Season</th>\n",
              "      <th>city</th>\n",
              "      <th>date</th>\n",
              "      <th>team1</th>\n",
              "      <th>team2</th>\n",
              "      <th>toss_winner</th>\n",
              "      <th>toss_decision</th>\n",
              "      <th>result</th>\n",
              "      <th>dl_applied</th>\n",
              "      <th>winner</th>\n",
              "      <th>win_by_runs</th>\n",
              "      <th>win_by_wickets</th>\n",
              "      <th>player_of_match</th>\n",
              "      <th>venue</th>\n",
              "      <th>umpire1</th>\n",
              "      <th>umpire2</th>\n",
              "      <th>umpire3</th>\n",
              "    </tr>\n",
              "  </thead>\n",
              "  <tbody>\n",
              "    <tr>\n",
              "      <th>0</th>\n",
              "      <td>1</td>\n",
              "      <td>IPL-2017</td>\n",
              "      <td>Hyderabad</td>\n",
              "      <td>05-04-2017</td>\n",
              "      <td>Sunrisers Hyderabad</td>\n",
              "      <td>Royal Challengers Bangalore</td>\n",
              "      <td>Royal Challengers Bangalore</td>\n",
              "      <td>field</td>\n",
              "      <td>normal</td>\n",
              "      <td>0</td>\n",
              "      <td>Sunrisers Hyderabad</td>\n",
              "      <td>35</td>\n",
              "      <td>0</td>\n",
              "      <td>Yuvraj Singh</td>\n",
              "      <td>Rajiv Gandhi International Stadium, Uppal</td>\n",
              "      <td>AY Dandekar</td>\n",
              "      <td>NJ Llong</td>\n",
              "      <td>NaN</td>\n",
              "    </tr>\n",
              "    <tr>\n",
              "      <th>1</th>\n",
              "      <td>2</td>\n",
              "      <td>IPL-2017</td>\n",
              "      <td>Pune</td>\n",
              "      <td>06-04-2017</td>\n",
              "      <td>Mumbai Indians</td>\n",
              "      <td>Rising Pune Supergiant</td>\n",
              "      <td>Rising Pune Supergiant</td>\n",
              "      <td>field</td>\n",
              "      <td>normal</td>\n",
              "      <td>0</td>\n",
              "      <td>Rising Pune Supergiant</td>\n",
              "      <td>0</td>\n",
              "      <td>7</td>\n",
              "      <td>SPD Smith</td>\n",
              "      <td>Maharashtra Cricket Association Stadium</td>\n",
              "      <td>A Nand Kishore</td>\n",
              "      <td>S Ravi</td>\n",
              "      <td>NaN</td>\n",
              "    </tr>\n",
              "    <tr>\n",
              "      <th>2</th>\n",
              "      <td>3</td>\n",
              "      <td>IPL-2017</td>\n",
              "      <td>Rajkot</td>\n",
              "      <td>07-04-2017</td>\n",
              "      <td>Gujarat Lions</td>\n",
              "      <td>Kolkata Knight Riders</td>\n",
              "      <td>Kolkata Knight Riders</td>\n",
              "      <td>field</td>\n",
              "      <td>normal</td>\n",
              "      <td>0</td>\n",
              "      <td>Kolkata Knight Riders</td>\n",
              "      <td>0</td>\n",
              "      <td>10</td>\n",
              "      <td>CA Lynn</td>\n",
              "      <td>Saurashtra Cricket Association Stadium</td>\n",
              "      <td>Nitin Menon</td>\n",
              "      <td>CK Nandan</td>\n",
              "      <td>NaN</td>\n",
              "    </tr>\n",
              "    <tr>\n",
              "      <th>3</th>\n",
              "      <td>4</td>\n",
              "      <td>IPL-2017</td>\n",
              "      <td>Indore</td>\n",
              "      <td>08-04-2017</td>\n",
              "      <td>Rising Pune Supergiant</td>\n",
              "      <td>Kings XI Punjab</td>\n",
              "      <td>Kings XI Punjab</td>\n",
              "      <td>field</td>\n",
              "      <td>normal</td>\n",
              "      <td>0</td>\n",
              "      <td>Kings XI Punjab</td>\n",
              "      <td>0</td>\n",
              "      <td>6</td>\n",
              "      <td>GJ Maxwell</td>\n",
              "      <td>Holkar Cricket Stadium</td>\n",
              "      <td>AK Chaudhary</td>\n",
              "      <td>C Shamshuddin</td>\n",
              "      <td>NaN</td>\n",
              "    </tr>\n",
              "    <tr>\n",
              "      <th>4</th>\n",
              "      <td>5</td>\n",
              "      <td>IPL-2017</td>\n",
              "      <td>Bangalore</td>\n",
              "      <td>08-04-2017</td>\n",
              "      <td>Royal Challengers Bangalore</td>\n",
              "      <td>Delhi Daredevils</td>\n",
              "      <td>Royal Challengers Bangalore</td>\n",
              "      <td>bat</td>\n",
              "      <td>normal</td>\n",
              "      <td>0</td>\n",
              "      <td>Royal Challengers Bangalore</td>\n",
              "      <td>15</td>\n",
              "      <td>0</td>\n",
              "      <td>KM Jadhav</td>\n",
              "      <td>M Chinnaswamy Stadium</td>\n",
              "      <td>NaN</td>\n",
              "      <td>NaN</td>\n",
              "      <td>NaN</td>\n",
              "    </tr>\n",
              "  </tbody>\n",
              "</table>\n",
              "</div>\n",
              "      <button class=\"colab-df-convert\" onclick=\"convertToInteractive('df-7489f73b-59d7-4021-8a06-c2d2422e1b5c')\"\n",
              "              title=\"Convert this dataframe to an interactive table.\"\n",
              "              style=\"display:none;\">\n",
              "        \n",
              "  <svg xmlns=\"http://www.w3.org/2000/svg\" height=\"24px\"viewBox=\"0 0 24 24\"\n",
              "       width=\"24px\">\n",
              "    <path d=\"M0 0h24v24H0V0z\" fill=\"none\"/>\n",
              "    <path d=\"M18.56 5.44l.94 2.06.94-2.06 2.06-.94-2.06-.94-.94-2.06-.94 2.06-2.06.94zm-11 1L8.5 8.5l.94-2.06 2.06-.94-2.06-.94L8.5 2.5l-.94 2.06-2.06.94zm10 10l.94 2.06.94-2.06 2.06-.94-2.06-.94-.94-2.06-.94 2.06-2.06.94z\"/><path d=\"M17.41 7.96l-1.37-1.37c-.4-.4-.92-.59-1.43-.59-.52 0-1.04.2-1.43.59L10.3 9.45l-7.72 7.72c-.78.78-.78 2.05 0 2.83L4 21.41c.39.39.9.59 1.41.59.51 0 1.02-.2 1.41-.59l7.78-7.78 2.81-2.81c.8-.78.8-2.07 0-2.86zM5.41 20L4 18.59l7.72-7.72 1.47 1.35L5.41 20z\"/>\n",
              "  </svg>\n",
              "      </button>\n",
              "      \n",
              "  <style>\n",
              "    .colab-df-container {\n",
              "      display:flex;\n",
              "      flex-wrap:wrap;\n",
              "      gap: 12px;\n",
              "    }\n",
              "\n",
              "    .colab-df-convert {\n",
              "      background-color: #E8F0FE;\n",
              "      border: none;\n",
              "      border-radius: 50%;\n",
              "      cursor: pointer;\n",
              "      display: none;\n",
              "      fill: #1967D2;\n",
              "      height: 32px;\n",
              "      padding: 0 0 0 0;\n",
              "      width: 32px;\n",
              "    }\n",
              "\n",
              "    .colab-df-convert:hover {\n",
              "      background-color: #E2EBFA;\n",
              "      box-shadow: 0px 1px 2px rgba(60, 64, 67, 0.3), 0px 1px 3px 1px rgba(60, 64, 67, 0.15);\n",
              "      fill: #174EA6;\n",
              "    }\n",
              "\n",
              "    [theme=dark] .colab-df-convert {\n",
              "      background-color: #3B4455;\n",
              "      fill: #D2E3FC;\n",
              "    }\n",
              "\n",
              "    [theme=dark] .colab-df-convert:hover {\n",
              "      background-color: #434B5C;\n",
              "      box-shadow: 0px 1px 3px 1px rgba(0, 0, 0, 0.15);\n",
              "      filter: drop-shadow(0px 1px 2px rgba(0, 0, 0, 0.3));\n",
              "      fill: #FFFFFF;\n",
              "    }\n",
              "  </style>\n",
              "\n",
              "      <script>\n",
              "        const buttonEl =\n",
              "          document.querySelector('#df-7489f73b-59d7-4021-8a06-c2d2422e1b5c button.colab-df-convert');\n",
              "        buttonEl.style.display =\n",
              "          google.colab.kernel.accessAllowed ? 'block' : 'none';\n",
              "\n",
              "        async function convertToInteractive(key) {\n",
              "          const element = document.querySelector('#df-7489f73b-59d7-4021-8a06-c2d2422e1b5c');\n",
              "          const dataTable =\n",
              "            await google.colab.kernel.invokeFunction('convertToInteractive',\n",
              "                                                     [key], {});\n",
              "          if (!dataTable) return;\n",
              "\n",
              "          const docLinkHtml = 'Like what you see? Visit the ' +\n",
              "            '<a target=\"_blank\" href=https://colab.research.google.com/notebooks/data_table.ipynb>data table notebook</a>'\n",
              "            + ' to learn more about interactive tables.';\n",
              "          element.innerHTML = '';\n",
              "          dataTable['output_type'] = 'display_data';\n",
              "          await google.colab.output.renderOutput(dataTable, element);\n",
              "          const docLink = document.createElement('div');\n",
              "          docLink.innerHTML = docLinkHtml;\n",
              "          element.appendChild(docLink);\n",
              "        }\n",
              "      </script>\n",
              "    </div>\n",
              "  </div>\n",
              "  "
            ]
          },
          "metadata": {},
          "execution_count": 4
        }
      ]
    },
    {
      "cell_type": "code",
      "source": [
        "data.tail()"
      ],
      "metadata": {
        "colab": {
          "base_uri": "https://localhost:8080/",
          "height": 424
        },
        "id": "WIZ8i9Gg5R-4",
        "outputId": "cd44666c-26fc-4552-8419-6ddb4ecbc6af"
      },
      "execution_count": null,
      "outputs": [
        {
          "output_type": "execute_result",
          "data": {
            "text/plain": [
              "        id    Season           city        date                  team1  \\\n",
              "751  11347  IPL-2019         Mumbai  05-05-2019  Kolkata Knight Riders   \n",
              "752  11412  IPL-2019        Chennai  07-05-2019    Chennai Super Kings   \n",
              "753  11413  IPL-2019  Visakhapatnam  08-05-2019    Sunrisers Hyderabad   \n",
              "754  11414  IPL-2019  Visakhapatnam  10-05-2019         Delhi Capitals   \n",
              "755  11415  IPL-2019      Hyderabad  12-05-2019         Mumbai Indians   \n",
              "\n",
              "                   team2          toss_winner toss_decision  result  \\\n",
              "751       Mumbai Indians       Mumbai Indians         field  normal   \n",
              "752       Mumbai Indians  Chennai Super Kings           bat  normal   \n",
              "753       Delhi Capitals       Delhi Capitals         field  normal   \n",
              "754  Chennai Super Kings  Chennai Super Kings         field  normal   \n",
              "755  Chennai Super Kings       Mumbai Indians           bat  normal   \n",
              "\n",
              "     dl_applied               winner  win_by_runs  win_by_wickets  \\\n",
              "751           0       Mumbai Indians            0               9   \n",
              "752           0       Mumbai Indians            0               6   \n",
              "753           0       Delhi Capitals            0               2   \n",
              "754           0  Chennai Super Kings            0               6   \n",
              "755           0       Mumbai Indians            1               0   \n",
              "\n",
              "    player_of_match                               venue        umpire1  \\\n",
              "751       HH Pandya                    Wankhede Stadium  Nanda Kishore   \n",
              "752        AS Yadav           M. A. Chidambaram Stadium    Nigel Llong   \n",
              "753         RR Pant                    ACA-VDCA Stadium            NaN   \n",
              "754    F du Plessis                    ACA-VDCA Stadium  Sundaram Ravi   \n",
              "755       JJ Bumrah  Rajiv Gandhi Intl. Cricket Stadium    Nitin Menon   \n",
              "\n",
              "            umpire2                  umpire3  \n",
              "751        O Nandan                   S Ravi  \n",
              "752     Nitin Menon                Ian Gould  \n",
              "753             NaN                      NaN  \n",
              "754  Bruce Oxenford  Chettithody Shamshuddin  \n",
              "755       Ian Gould              Nigel Llong  "
            ],
            "text/html": [
              "\n",
              "  <div id=\"df-1b107e4e-27a0-4ee4-8b7e-55658ce63bb0\">\n",
              "    <div class=\"colab-df-container\">\n",
              "      <div>\n",
              "<style scoped>\n",
              "    .dataframe tbody tr th:only-of-type {\n",
              "        vertical-align: middle;\n",
              "    }\n",
              "\n",
              "    .dataframe tbody tr th {\n",
              "        vertical-align: top;\n",
              "    }\n",
              "\n",
              "    .dataframe thead th {\n",
              "        text-align: right;\n",
              "    }\n",
              "</style>\n",
              "<table border=\"1\" class=\"dataframe\">\n",
              "  <thead>\n",
              "    <tr style=\"text-align: right;\">\n",
              "      <th></th>\n",
              "      <th>id</th>\n",
              "      <th>Season</th>\n",
              "      <th>city</th>\n",
              "      <th>date</th>\n",
              "      <th>team1</th>\n",
              "      <th>team2</th>\n",
              "      <th>toss_winner</th>\n",
              "      <th>toss_decision</th>\n",
              "      <th>result</th>\n",
              "      <th>dl_applied</th>\n",
              "      <th>winner</th>\n",
              "      <th>win_by_runs</th>\n",
              "      <th>win_by_wickets</th>\n",
              "      <th>player_of_match</th>\n",
              "      <th>venue</th>\n",
              "      <th>umpire1</th>\n",
              "      <th>umpire2</th>\n",
              "      <th>umpire3</th>\n",
              "    </tr>\n",
              "  </thead>\n",
              "  <tbody>\n",
              "    <tr>\n",
              "      <th>751</th>\n",
              "      <td>11347</td>\n",
              "      <td>IPL-2019</td>\n",
              "      <td>Mumbai</td>\n",
              "      <td>05-05-2019</td>\n",
              "      <td>Kolkata Knight Riders</td>\n",
              "      <td>Mumbai Indians</td>\n",
              "      <td>Mumbai Indians</td>\n",
              "      <td>field</td>\n",
              "      <td>normal</td>\n",
              "      <td>0</td>\n",
              "      <td>Mumbai Indians</td>\n",
              "      <td>0</td>\n",
              "      <td>9</td>\n",
              "      <td>HH Pandya</td>\n",
              "      <td>Wankhede Stadium</td>\n",
              "      <td>Nanda Kishore</td>\n",
              "      <td>O Nandan</td>\n",
              "      <td>S Ravi</td>\n",
              "    </tr>\n",
              "    <tr>\n",
              "      <th>752</th>\n",
              "      <td>11412</td>\n",
              "      <td>IPL-2019</td>\n",
              "      <td>Chennai</td>\n",
              "      <td>07-05-2019</td>\n",
              "      <td>Chennai Super Kings</td>\n",
              "      <td>Mumbai Indians</td>\n",
              "      <td>Chennai Super Kings</td>\n",
              "      <td>bat</td>\n",
              "      <td>normal</td>\n",
              "      <td>0</td>\n",
              "      <td>Mumbai Indians</td>\n",
              "      <td>0</td>\n",
              "      <td>6</td>\n",
              "      <td>AS Yadav</td>\n",
              "      <td>M. A. Chidambaram Stadium</td>\n",
              "      <td>Nigel Llong</td>\n",
              "      <td>Nitin Menon</td>\n",
              "      <td>Ian Gould</td>\n",
              "    </tr>\n",
              "    <tr>\n",
              "      <th>753</th>\n",
              "      <td>11413</td>\n",
              "      <td>IPL-2019</td>\n",
              "      <td>Visakhapatnam</td>\n",
              "      <td>08-05-2019</td>\n",
              "      <td>Sunrisers Hyderabad</td>\n",
              "      <td>Delhi Capitals</td>\n",
              "      <td>Delhi Capitals</td>\n",
              "      <td>field</td>\n",
              "      <td>normal</td>\n",
              "      <td>0</td>\n",
              "      <td>Delhi Capitals</td>\n",
              "      <td>0</td>\n",
              "      <td>2</td>\n",
              "      <td>RR Pant</td>\n",
              "      <td>ACA-VDCA Stadium</td>\n",
              "      <td>NaN</td>\n",
              "      <td>NaN</td>\n",
              "      <td>NaN</td>\n",
              "    </tr>\n",
              "    <tr>\n",
              "      <th>754</th>\n",
              "      <td>11414</td>\n",
              "      <td>IPL-2019</td>\n",
              "      <td>Visakhapatnam</td>\n",
              "      <td>10-05-2019</td>\n",
              "      <td>Delhi Capitals</td>\n",
              "      <td>Chennai Super Kings</td>\n",
              "      <td>Chennai Super Kings</td>\n",
              "      <td>field</td>\n",
              "      <td>normal</td>\n",
              "      <td>0</td>\n",
              "      <td>Chennai Super Kings</td>\n",
              "      <td>0</td>\n",
              "      <td>6</td>\n",
              "      <td>F du Plessis</td>\n",
              "      <td>ACA-VDCA Stadium</td>\n",
              "      <td>Sundaram Ravi</td>\n",
              "      <td>Bruce Oxenford</td>\n",
              "      <td>Chettithody Shamshuddin</td>\n",
              "    </tr>\n",
              "    <tr>\n",
              "      <th>755</th>\n",
              "      <td>11415</td>\n",
              "      <td>IPL-2019</td>\n",
              "      <td>Hyderabad</td>\n",
              "      <td>12-05-2019</td>\n",
              "      <td>Mumbai Indians</td>\n",
              "      <td>Chennai Super Kings</td>\n",
              "      <td>Mumbai Indians</td>\n",
              "      <td>bat</td>\n",
              "      <td>normal</td>\n",
              "      <td>0</td>\n",
              "      <td>Mumbai Indians</td>\n",
              "      <td>1</td>\n",
              "      <td>0</td>\n",
              "      <td>JJ Bumrah</td>\n",
              "      <td>Rajiv Gandhi Intl. Cricket Stadium</td>\n",
              "      <td>Nitin Menon</td>\n",
              "      <td>Ian Gould</td>\n",
              "      <td>Nigel Llong</td>\n",
              "    </tr>\n",
              "  </tbody>\n",
              "</table>\n",
              "</div>\n",
              "      <button class=\"colab-df-convert\" onclick=\"convertToInteractive('df-1b107e4e-27a0-4ee4-8b7e-55658ce63bb0')\"\n",
              "              title=\"Convert this dataframe to an interactive table.\"\n",
              "              style=\"display:none;\">\n",
              "        \n",
              "  <svg xmlns=\"http://www.w3.org/2000/svg\" height=\"24px\"viewBox=\"0 0 24 24\"\n",
              "       width=\"24px\">\n",
              "    <path d=\"M0 0h24v24H0V0z\" fill=\"none\"/>\n",
              "    <path d=\"M18.56 5.44l.94 2.06.94-2.06 2.06-.94-2.06-.94-.94-2.06-.94 2.06-2.06.94zm-11 1L8.5 8.5l.94-2.06 2.06-.94-2.06-.94L8.5 2.5l-.94 2.06-2.06.94zm10 10l.94 2.06.94-2.06 2.06-.94-2.06-.94-.94-2.06-.94 2.06-2.06.94z\"/><path d=\"M17.41 7.96l-1.37-1.37c-.4-.4-.92-.59-1.43-.59-.52 0-1.04.2-1.43.59L10.3 9.45l-7.72 7.72c-.78.78-.78 2.05 0 2.83L4 21.41c.39.39.9.59 1.41.59.51 0 1.02-.2 1.41-.59l7.78-7.78 2.81-2.81c.8-.78.8-2.07 0-2.86zM5.41 20L4 18.59l7.72-7.72 1.47 1.35L5.41 20z\"/>\n",
              "  </svg>\n",
              "      </button>\n",
              "      \n",
              "  <style>\n",
              "    .colab-df-container {\n",
              "      display:flex;\n",
              "      flex-wrap:wrap;\n",
              "      gap: 12px;\n",
              "    }\n",
              "\n",
              "    .colab-df-convert {\n",
              "      background-color: #E8F0FE;\n",
              "      border: none;\n",
              "      border-radius: 50%;\n",
              "      cursor: pointer;\n",
              "      display: none;\n",
              "      fill: #1967D2;\n",
              "      height: 32px;\n",
              "      padding: 0 0 0 0;\n",
              "      width: 32px;\n",
              "    }\n",
              "\n",
              "    .colab-df-convert:hover {\n",
              "      background-color: #E2EBFA;\n",
              "      box-shadow: 0px 1px 2px rgba(60, 64, 67, 0.3), 0px 1px 3px 1px rgba(60, 64, 67, 0.15);\n",
              "      fill: #174EA6;\n",
              "    }\n",
              "\n",
              "    [theme=dark] .colab-df-convert {\n",
              "      background-color: #3B4455;\n",
              "      fill: #D2E3FC;\n",
              "    }\n",
              "\n",
              "    [theme=dark] .colab-df-convert:hover {\n",
              "      background-color: #434B5C;\n",
              "      box-shadow: 0px 1px 3px 1px rgba(0, 0, 0, 0.15);\n",
              "      filter: drop-shadow(0px 1px 2px rgba(0, 0, 0, 0.3));\n",
              "      fill: #FFFFFF;\n",
              "    }\n",
              "  </style>\n",
              "\n",
              "      <script>\n",
              "        const buttonEl =\n",
              "          document.querySelector('#df-1b107e4e-27a0-4ee4-8b7e-55658ce63bb0 button.colab-df-convert');\n",
              "        buttonEl.style.display =\n",
              "          google.colab.kernel.accessAllowed ? 'block' : 'none';\n",
              "\n",
              "        async function convertToInteractive(key) {\n",
              "          const element = document.querySelector('#df-1b107e4e-27a0-4ee4-8b7e-55658ce63bb0');\n",
              "          const dataTable =\n",
              "            await google.colab.kernel.invokeFunction('convertToInteractive',\n",
              "                                                     [key], {});\n",
              "          if (!dataTable) return;\n",
              "\n",
              "          const docLinkHtml = 'Like what you see? Visit the ' +\n",
              "            '<a target=\"_blank\" href=https://colab.research.google.com/notebooks/data_table.ipynb>data table notebook</a>'\n",
              "            + ' to learn more about interactive tables.';\n",
              "          element.innerHTML = '';\n",
              "          dataTable['output_type'] = 'display_data';\n",
              "          await google.colab.output.renderOutput(dataTable, element);\n",
              "          const docLink = document.createElement('div');\n",
              "          docLink.innerHTML = docLinkHtml;\n",
              "          element.appendChild(docLink);\n",
              "        }\n",
              "      </script>\n",
              "    </div>\n",
              "  </div>\n",
              "  "
            ]
          },
          "metadata": {},
          "execution_count": 5
        }
      ]
    },
    {
      "cell_type": "code",
      "source": [
        "data.columns"
      ],
      "metadata": {
        "colab": {
          "base_uri": "https://localhost:8080/"
        },
        "id": "tO0AvjD45bPp",
        "outputId": "624689e1-b0f9-44a4-8a34-eeadbfbddcc4"
      },
      "execution_count": null,
      "outputs": [
        {
          "output_type": "execute_result",
          "data": {
            "text/plain": [
              "Index(['id', 'Season', 'city', 'date', 'team1', 'team2', 'toss_winner',\n",
              "       'toss_decision', 'result', 'dl_applied', 'winner', 'win_by_runs',\n",
              "       'win_by_wickets', 'player_of_match', 'venue', 'umpire1', 'umpire2',\n",
              "       'umpire3'],\n",
              "      dtype='object')"
            ]
          },
          "metadata": {},
          "execution_count": 6
        }
      ]
    },
    {
      "cell_type": "markdown",
      "source": [
        "Dimensions of Dataset."
      ],
      "metadata": {
        "id": "AJ46IMx6bCJL"
      }
    },
    {
      "cell_type": "code",
      "source": [
        "data.shape"
      ],
      "metadata": {
        "colab": {
          "base_uri": "https://localhost:8080/"
        },
        "id": "EqNlCMMS5dRy",
        "outputId": "da10b0c9-40b6-43fd-ae34-49e38bf3fad6"
      },
      "execution_count": null,
      "outputs": [
        {
          "output_type": "execute_result",
          "data": {
            "text/plain": [
              "(756, 18)"
            ]
          },
          "metadata": {},
          "execution_count": 7
        }
      ]
    },
    {
      "cell_type": "code",
      "source": [
        "data.info()"
      ],
      "metadata": {
        "colab": {
          "base_uri": "https://localhost:8080/"
        },
        "id": "7mA8OND25fcB",
        "outputId": "25ae58f7-8a73-4f91-994a-71a8f4521d7a"
      },
      "execution_count": null,
      "outputs": [
        {
          "output_type": "stream",
          "name": "stdout",
          "text": [
            "<class 'pandas.core.frame.DataFrame'>\n",
            "RangeIndex: 756 entries, 0 to 755\n",
            "Data columns (total 18 columns):\n",
            " #   Column           Non-Null Count  Dtype \n",
            "---  ------           --------------  ----- \n",
            " 0   id               756 non-null    int64 \n",
            " 1   Season           756 non-null    object\n",
            " 2   city             749 non-null    object\n",
            " 3   date             756 non-null    object\n",
            " 4   team1            756 non-null    object\n",
            " 5   team2            756 non-null    object\n",
            " 6   toss_winner      756 non-null    object\n",
            " 7   toss_decision    756 non-null    object\n",
            " 8   result           756 non-null    object\n",
            " 9   dl_applied       756 non-null    int64 \n",
            " 10  winner           752 non-null    object\n",
            " 11  win_by_runs      756 non-null    int64 \n",
            " 12  win_by_wickets   756 non-null    int64 \n",
            " 13  player_of_match  752 non-null    object\n",
            " 14  venue            756 non-null    object\n",
            " 15  umpire1          754 non-null    object\n",
            " 16  umpire2          754 non-null    object\n",
            " 17  umpire3          119 non-null    object\n",
            "dtypes: int64(4), object(14)\n",
            "memory usage: 106.4+ KB\n"
          ]
        }
      ]
    },
    {
      "cell_type": "markdown",
      "source": [
        "Summary of dataset"
      ],
      "metadata": {
        "id": "Nv257PnbbO0d"
      }
    },
    {
      "cell_type": "code",
      "source": [
        "data.describe().T"
      ],
      "metadata": {
        "colab": {
          "base_uri": "https://localhost:8080/",
          "height": 175
        },
        "id": "WeWzH6B15h4P",
        "outputId": "346f9d14-0aed-4452-85ca-44b47127f9fb"
      },
      "execution_count": null,
      "outputs": [
        {
          "output_type": "execute_result",
          "data": {
            "text/plain": [
              "                count         mean          std  min     25%    50%     75%  \\\n",
              "id              756.0  1792.178571  3464.478148  1.0  189.75  378.5  567.25   \n",
              "dl_applied      756.0     0.025132     0.156630  0.0    0.00    0.0    0.00   \n",
              "win_by_runs     756.0    13.283069    23.471144  0.0    0.00    0.0   19.00   \n",
              "win_by_wickets  756.0     3.350529     3.387963  0.0    0.00    4.0    6.00   \n",
              "\n",
              "                    max  \n",
              "id              11415.0  \n",
              "dl_applied          1.0  \n",
              "win_by_runs       146.0  \n",
              "win_by_wickets     10.0  "
            ],
            "text/html": [
              "\n",
              "  <div id=\"df-8a3fef07-c229-4cde-8f25-235302699caa\">\n",
              "    <div class=\"colab-df-container\">\n",
              "      <div>\n",
              "<style scoped>\n",
              "    .dataframe tbody tr th:only-of-type {\n",
              "        vertical-align: middle;\n",
              "    }\n",
              "\n",
              "    .dataframe tbody tr th {\n",
              "        vertical-align: top;\n",
              "    }\n",
              "\n",
              "    .dataframe thead th {\n",
              "        text-align: right;\n",
              "    }\n",
              "</style>\n",
              "<table border=\"1\" class=\"dataframe\">\n",
              "  <thead>\n",
              "    <tr style=\"text-align: right;\">\n",
              "      <th></th>\n",
              "      <th>count</th>\n",
              "      <th>mean</th>\n",
              "      <th>std</th>\n",
              "      <th>min</th>\n",
              "      <th>25%</th>\n",
              "      <th>50%</th>\n",
              "      <th>75%</th>\n",
              "      <th>max</th>\n",
              "    </tr>\n",
              "  </thead>\n",
              "  <tbody>\n",
              "    <tr>\n",
              "      <th>id</th>\n",
              "      <td>756.0</td>\n",
              "      <td>1792.178571</td>\n",
              "      <td>3464.478148</td>\n",
              "      <td>1.0</td>\n",
              "      <td>189.75</td>\n",
              "      <td>378.5</td>\n",
              "      <td>567.25</td>\n",
              "      <td>11415.0</td>\n",
              "    </tr>\n",
              "    <tr>\n",
              "      <th>dl_applied</th>\n",
              "      <td>756.0</td>\n",
              "      <td>0.025132</td>\n",
              "      <td>0.156630</td>\n",
              "      <td>0.0</td>\n",
              "      <td>0.00</td>\n",
              "      <td>0.0</td>\n",
              "      <td>0.00</td>\n",
              "      <td>1.0</td>\n",
              "    </tr>\n",
              "    <tr>\n",
              "      <th>win_by_runs</th>\n",
              "      <td>756.0</td>\n",
              "      <td>13.283069</td>\n",
              "      <td>23.471144</td>\n",
              "      <td>0.0</td>\n",
              "      <td>0.00</td>\n",
              "      <td>0.0</td>\n",
              "      <td>19.00</td>\n",
              "      <td>146.0</td>\n",
              "    </tr>\n",
              "    <tr>\n",
              "      <th>win_by_wickets</th>\n",
              "      <td>756.0</td>\n",
              "      <td>3.350529</td>\n",
              "      <td>3.387963</td>\n",
              "      <td>0.0</td>\n",
              "      <td>0.00</td>\n",
              "      <td>4.0</td>\n",
              "      <td>6.00</td>\n",
              "      <td>10.0</td>\n",
              "    </tr>\n",
              "  </tbody>\n",
              "</table>\n",
              "</div>\n",
              "      <button class=\"colab-df-convert\" onclick=\"convertToInteractive('df-8a3fef07-c229-4cde-8f25-235302699caa')\"\n",
              "              title=\"Convert this dataframe to an interactive table.\"\n",
              "              style=\"display:none;\">\n",
              "        \n",
              "  <svg xmlns=\"http://www.w3.org/2000/svg\" height=\"24px\"viewBox=\"0 0 24 24\"\n",
              "       width=\"24px\">\n",
              "    <path d=\"M0 0h24v24H0V0z\" fill=\"none\"/>\n",
              "    <path d=\"M18.56 5.44l.94 2.06.94-2.06 2.06-.94-2.06-.94-.94-2.06-.94 2.06-2.06.94zm-11 1L8.5 8.5l.94-2.06 2.06-.94-2.06-.94L8.5 2.5l-.94 2.06-2.06.94zm10 10l.94 2.06.94-2.06 2.06-.94-2.06-.94-.94-2.06-.94 2.06-2.06.94z\"/><path d=\"M17.41 7.96l-1.37-1.37c-.4-.4-.92-.59-1.43-.59-.52 0-1.04.2-1.43.59L10.3 9.45l-7.72 7.72c-.78.78-.78 2.05 0 2.83L4 21.41c.39.39.9.59 1.41.59.51 0 1.02-.2 1.41-.59l7.78-7.78 2.81-2.81c.8-.78.8-2.07 0-2.86zM5.41 20L4 18.59l7.72-7.72 1.47 1.35L5.41 20z\"/>\n",
              "  </svg>\n",
              "      </button>\n",
              "      \n",
              "  <style>\n",
              "    .colab-df-container {\n",
              "      display:flex;\n",
              "      flex-wrap:wrap;\n",
              "      gap: 12px;\n",
              "    }\n",
              "\n",
              "    .colab-df-convert {\n",
              "      background-color: #E8F0FE;\n",
              "      border: none;\n",
              "      border-radius: 50%;\n",
              "      cursor: pointer;\n",
              "      display: none;\n",
              "      fill: #1967D2;\n",
              "      height: 32px;\n",
              "      padding: 0 0 0 0;\n",
              "      width: 32px;\n",
              "    }\n",
              "\n",
              "    .colab-df-convert:hover {\n",
              "      background-color: #E2EBFA;\n",
              "      box-shadow: 0px 1px 2px rgba(60, 64, 67, 0.3), 0px 1px 3px 1px rgba(60, 64, 67, 0.15);\n",
              "      fill: #174EA6;\n",
              "    }\n",
              "\n",
              "    [theme=dark] .colab-df-convert {\n",
              "      background-color: #3B4455;\n",
              "      fill: #D2E3FC;\n",
              "    }\n",
              "\n",
              "    [theme=dark] .colab-df-convert:hover {\n",
              "      background-color: #434B5C;\n",
              "      box-shadow: 0px 1px 3px 1px rgba(0, 0, 0, 0.15);\n",
              "      filter: drop-shadow(0px 1px 2px rgba(0, 0, 0, 0.3));\n",
              "      fill: #FFFFFF;\n",
              "    }\n",
              "  </style>\n",
              "\n",
              "      <script>\n",
              "        const buttonEl =\n",
              "          document.querySelector('#df-8a3fef07-c229-4cde-8f25-235302699caa button.colab-df-convert');\n",
              "        buttonEl.style.display =\n",
              "          google.colab.kernel.accessAllowed ? 'block' : 'none';\n",
              "\n",
              "        async function convertToInteractive(key) {\n",
              "          const element = document.querySelector('#df-8a3fef07-c229-4cde-8f25-235302699caa');\n",
              "          const dataTable =\n",
              "            await google.colab.kernel.invokeFunction('convertToInteractive',\n",
              "                                                     [key], {});\n",
              "          if (!dataTable) return;\n",
              "\n",
              "          const docLinkHtml = 'Like what you see? Visit the ' +\n",
              "            '<a target=\"_blank\" href=https://colab.research.google.com/notebooks/data_table.ipynb>data table notebook</a>'\n",
              "            + ' to learn more about interactive tables.';\n",
              "          element.innerHTML = '';\n",
              "          dataTable['output_type'] = 'display_data';\n",
              "          await google.colab.output.renderOutput(dataTable, element);\n",
              "          const docLink = document.createElement('div');\n",
              "          docLink.innerHTML = docLinkHtml;\n",
              "          element.appendChild(docLink);\n",
              "        }\n",
              "      </script>\n",
              "    </div>\n",
              "  </div>\n",
              "  "
            ]
          },
          "metadata": {},
          "execution_count": 9
        }
      ]
    },
    {
      "cell_type": "markdown",
      "source": [
        "DATA CLEANING"
      ],
      "metadata": {
        "id": "MF6TxWgY2PKf"
      }
    },
    {
      "cell_type": "markdown",
      "source": [
        "Before we move ahead let's drop te columns that we are not going to use ahead."
      ],
      "metadata": {
        "id": "zdy_owDH2dVx"
      }
    },
    {
      "cell_type": "code",
      "source": [
        "data.drop(columns=['umpire1','umpire2','umpire3'],inplace=True)\n"
      ],
      "metadata": {
        "id": "Dv9ftIgE2Vqs"
      },
      "execution_count": null,
      "outputs": []
    },
    {
      "cell_type": "markdown",
      "source": [
        "Now Let's ahve a look at all the seasons in which IPL is played in given data set"
      ],
      "metadata": {
        "id": "b4nwAVuBtSdF"
      }
    },
    {
      "cell_type": "code",
      "source": [
        "data[\"Season\"].unique()"
      ],
      "metadata": {
        "colab": {
          "base_uri": "https://localhost:8080/"
        },
        "id": "N6YW_JJkqcTC",
        "outputId": "88bd64a1-de85-402f-861b-db6b0cfeca3e"
      },
      "execution_count": null,
      "outputs": [
        {
          "output_type": "execute_result",
          "data": {
            "text/plain": [
              "array(['IPL-2017', 'IPL-2008', 'IPL-2009', 'IPL-2010', 'IPL-2011',\n",
              "       'IPL-2012', 'IPL-2013', 'IPL-2014', 'IPL-2015', 'IPL-2016',\n",
              "       'IPL-2018', 'IPL-2019'], dtype=object)"
            ]
          },
          "metadata": {},
          "execution_count": 11
        }
      ]
    },
    {
      "cell_type": "markdown",
      "source": [
        "Now let's see all the teams that have participated or played"
      ],
      "metadata": {
        "id": "61K2tWVu3H3u"
      }
    },
    {
      "cell_type": "code",
      "source": [
        "data.team1.unique()\n"
      ],
      "metadata": {
        "colab": {
          "base_uri": "https://localhost:8080/"
        },
        "id": "Eib0U5ZA3NMR",
        "outputId": "26cd0e86-0971-4f08-f816-a7f58593b23a"
      },
      "execution_count": null,
      "outputs": [
        {
          "output_type": "execute_result",
          "data": {
            "text/plain": [
              "array(['Sunrisers Hyderabad', 'Mumbai Indians', 'Gujarat Lions',\n",
              "       'Rising Pune Supergiant', 'Royal Challengers Bangalore',\n",
              "       'Kolkata Knight Riders', 'Delhi Daredevils', 'Kings XI Punjab',\n",
              "       'Chennai Super Kings', 'Rajasthan Royals', 'Deccan Chargers',\n",
              "       'Kochi Tuskers Kerala', 'Pune Warriors', 'Rising Pune Supergiants',\n",
              "       'Delhi Capitals'], dtype=object)"
            ]
          },
          "metadata": {},
          "execution_count": 12
        }
      ]
    },
    {
      "cell_type": "markdown",
      "source": [
        "Let's see all the cities in whic IPL matches played"
      ],
      "metadata": {
        "id": "-ZgVVzg-3UzO"
      }
    },
    {
      "cell_type": "code",
      "source": [
        "data.city.unique()"
      ],
      "metadata": {
        "colab": {
          "base_uri": "https://localhost:8080/"
        },
        "id": "0c_tIUbht4y2",
        "outputId": "5da7cfb0-0011-4721-ab28-eac0848c4971"
      },
      "execution_count": null,
      "outputs": [
        {
          "output_type": "execute_result",
          "data": {
            "text/plain": [
              "array(['Hyderabad', 'Pune', 'Rajkot', 'Indore', 'Bangalore', 'Mumbai',\n",
              "       'Kolkata', 'Delhi', 'Chandigarh', 'Kanpur', 'Jaipur', 'Chennai',\n",
              "       'Cape Town', 'Port Elizabeth', 'Durban', 'Centurion',\n",
              "       'East London', 'Johannesburg', 'Kimberley', 'Bloemfontein',\n",
              "       'Ahmedabad', 'Cuttack', 'Nagpur', 'Dharamsala', 'Kochi',\n",
              "       'Visakhapatnam', 'Raipur', 'Ranchi', 'Abu Dhabi', 'Sharjah', nan,\n",
              "       'Mohali', 'Bengaluru'], dtype=object)"
            ]
          },
          "metadata": {},
          "execution_count": 13
        }
      ]
    },
    {
      "cell_type": "markdown",
      "source": [
        "From the operation we performed we can clearly observe the data required cleaning:\n",
        "\n",
        "1. pune was represented by many names such as 'Pune Warriors' , 'Rising Pune Supergiants' and 'Rising Pune Supergiant'.so we will changes these with the recent team representing Pune 'Rising Pune Supergiant' in all columns involving this name.\n",
        "\n",
        "2. Earlier the team name for delhi was 'Delhi Daredevils' but later it was changed to 'Delhi Capitals' so we will replace the \"delhi Daredevils' with 'Delhi Capitals'.\n",
        "\n",
        "3. Bangalore was Renamed as Bengaluru in 2014 so we will change the Name for City Bangalore to Bengaluru to avoid Errors in Data Analysis\n",
        "\n",
        "Let's accomplish"
      ],
      "metadata": {
        "id": "UHgMpLOA3vil"
      }
    },
    {
      "cell_type": "code",
      "source": [
        "data.team1.replace({'Rising Pune Supergiants' : 'Rising Pune Supergiant', 'Delhi Daredevils':'Delhi Capitals','Pune Warriors' : 'Rising Pune Supergiant'},inplace=True)\n",
        "data.team2.replace({'Rising Pune Supergiants' : 'Rising Pune Supergiant', 'Delhi Daredevils':'Delhi Capitals','Pune Warriors' : 'Rising Pune Supergiant'},inplace=True)\n",
        "data.toss_winner.replace({'Rising Pune Supergiants' : 'Rising Pune Supergiant', 'Delhi Daredevils':'Delhi Capitals','Pune Warriors' : 'Rising Pune Supergiant'},inplace=True)\n",
        "data.winner.replace({'Rising Pune Supergiants' : 'Rising Pune Supergiant', 'Delhi Daredevils':'Delhi Capitals','Pune Warriors' : 'Rising Pune Supergiant'},inplace=True)\n",
        "data.city.replace({'Bangalore' : 'Bengaluru'},inplace=True)"
      ],
      "metadata": {
        "id": "vfY7wwihuBsa"
      },
      "execution_count": null,
      "outputs": []
    },
    {
      "cell_type": "markdown",
      "source": [
        "Let's check whether the above operation has taken place"
      ],
      "metadata": {
        "id": "VH8MFVEBuBGn"
      }
    },
    {
      "cell_type": "code",
      "source": [
        "data.team1.unique()"
      ],
      "metadata": {
        "colab": {
          "base_uri": "https://localhost:8080/"
        },
        "id": "ydoXvNx49q4E",
        "outputId": "62f54bcd-380b-467e-f54c-bdef5ac24984"
      },
      "execution_count": null,
      "outputs": [
        {
          "output_type": "execute_result",
          "data": {
            "text/plain": [
              "array(['Sunrisers Hyderabad', 'Mumbai Indians', 'Gujarat Lions',\n",
              "       'Rising Pune Supergiant', 'Royal Challengers Bangalore',\n",
              "       'Kolkata Knight Riders', 'Delhi Capitals', 'Kings XI Punjab',\n",
              "       'Chennai Super Kings', 'Rajasthan Royals', 'Deccan Chargers',\n",
              "       'Kochi Tuskers Kerala'], dtype=object)"
            ]
          },
          "metadata": {},
          "execution_count": 15
        }
      ]
    },
    {
      "cell_type": "code",
      "source": [
        "data.team2.unique()"
      ],
      "metadata": {
        "colab": {
          "base_uri": "https://localhost:8080/"
        },
        "id": "oIyrFbzf9q0p",
        "outputId": "7b9e27e4-4a49-49ea-856e-5d56b9842091"
      },
      "execution_count": null,
      "outputs": [
        {
          "output_type": "execute_result",
          "data": {
            "text/plain": [
              "array(['Royal Challengers Bangalore', 'Rising Pune Supergiant',\n",
              "       'Kolkata Knight Riders', 'Kings XI Punjab', 'Delhi Capitals',\n",
              "       'Sunrisers Hyderabad', 'Mumbai Indians', 'Gujarat Lions',\n",
              "       'Rajasthan Royals', 'Chennai Super Kings', 'Deccan Chargers',\n",
              "       'Kochi Tuskers Kerala'], dtype=object)"
            ]
          },
          "metadata": {},
          "execution_count": 16
        }
      ]
    },
    {
      "cell_type": "code",
      "source": [
        "data.toss_winner.unique()"
      ],
      "metadata": {
        "colab": {
          "base_uri": "https://localhost:8080/"
        },
        "id": "R2NN1bxY9qyG",
        "outputId": "6bd64d48-5151-4759-d225-ea3806fd502a"
      },
      "execution_count": null,
      "outputs": [
        {
          "output_type": "execute_result",
          "data": {
            "text/plain": [
              "array(['Royal Challengers Bangalore', 'Rising Pune Supergiant',\n",
              "       'Kolkata Knight Riders', 'Kings XI Punjab', 'Sunrisers Hyderabad',\n",
              "       'Mumbai Indians', 'Gujarat Lions', 'Delhi Capitals',\n",
              "       'Chennai Super Kings', 'Rajasthan Royals', 'Deccan Chargers',\n",
              "       'Kochi Tuskers Kerala'], dtype=object)"
            ]
          },
          "metadata": {},
          "execution_count": 17
        }
      ]
    },
    {
      "cell_type": "code",
      "source": [
        "data.winner.unique()"
      ],
      "metadata": {
        "colab": {
          "base_uri": "https://localhost:8080/"
        },
        "id": "CaCGiHz-9qtV",
        "outputId": "7cd54735-5b0e-44fb-a657-95d3e3e1472e"
      },
      "execution_count": null,
      "outputs": [
        {
          "output_type": "execute_result",
          "data": {
            "text/plain": [
              "array(['Sunrisers Hyderabad', 'Rising Pune Supergiant',\n",
              "       'Kolkata Knight Riders', 'Kings XI Punjab',\n",
              "       'Royal Challengers Bangalore', 'Mumbai Indians', 'Delhi Capitals',\n",
              "       'Gujarat Lions', 'Chennai Super Kings', 'Rajasthan Royals',\n",
              "       'Deccan Chargers', 'Kochi Tuskers Kerala', nan], dtype=object)"
            ]
          },
          "metadata": {},
          "execution_count": 18
        }
      ]
    },
    {
      "cell_type": "markdown",
      "source": [
        "So through this our messy and misspelled data is cleaned."
      ],
      "metadata": {
        "id": "XLnptitl-Bbv"
      }
    },
    {
      "cell_type": "markdown",
      "source": [
        "HANDLING OF NULL VALUES"
      ],
      "metadata": {
        "id": "0TABVFMW-ixH"
      }
    },
    {
      "cell_type": "markdown",
      "source": [
        "Let's search all the null values present in our dataset"
      ],
      "metadata": {
        "id": "QRS8C6vR-tqL"
      }
    },
    {
      "cell_type": "code",
      "source": [
        "NaN_df = data[data.isna().any(axis=1)]\n",
        "NaN_df.style.highlight_null(null_color='green')"
      ],
      "metadata": {
        "colab": {
          "base_uri": "https://localhost:8080/",
          "height": 585
        },
        "id": "EyKRvYzC-jVY",
        "outputId": "1dc6c903-cc75-4c02-cfc2-f46bf3dea5b4"
      },
      "execution_count": null,
      "outputs": [
        {
          "output_type": "execute_result",
          "data": {
            "text/plain": [
              "<pandas.io.formats.style.Styler at 0x7f4a482b5210>"
            ],
            "text/html": [
              "<style type=\"text/css\">\n",
              "#T_c1fe2_row0_col10, #T_c1fe2_row0_col13, #T_c1fe2_row1_col2, #T_c1fe2_row2_col2, #T_c1fe2_row3_col2, #T_c1fe2_row4_col2, #T_c1fe2_row5_col2, #T_c1fe2_row6_col2, #T_c1fe2_row7_col2, #T_c1fe2_row8_col10, #T_c1fe2_row8_col13, #T_c1fe2_row9_col10, #T_c1fe2_row9_col13, #T_c1fe2_row10_col10, #T_c1fe2_row10_col13 {\n",
              "  background-color: green;\n",
              "}\n",
              "</style>\n",
              "<table id=\"T_c1fe2_\" class=\"dataframe\">\n",
              "  <thead>\n",
              "    <tr>\n",
              "      <th class=\"blank level0\" >&nbsp;</th>\n",
              "      <th class=\"col_heading level0 col0\" >id</th>\n",
              "      <th class=\"col_heading level0 col1\" >Season</th>\n",
              "      <th class=\"col_heading level0 col2\" >city</th>\n",
              "      <th class=\"col_heading level0 col3\" >date</th>\n",
              "      <th class=\"col_heading level0 col4\" >team1</th>\n",
              "      <th class=\"col_heading level0 col5\" >team2</th>\n",
              "      <th class=\"col_heading level0 col6\" >toss_winner</th>\n",
              "      <th class=\"col_heading level0 col7\" >toss_decision</th>\n",
              "      <th class=\"col_heading level0 col8\" >result</th>\n",
              "      <th class=\"col_heading level0 col9\" >dl_applied</th>\n",
              "      <th class=\"col_heading level0 col10\" >winner</th>\n",
              "      <th class=\"col_heading level0 col11\" >win_by_runs</th>\n",
              "      <th class=\"col_heading level0 col12\" >win_by_wickets</th>\n",
              "      <th class=\"col_heading level0 col13\" >player_of_match</th>\n",
              "      <th class=\"col_heading level0 col14\" >venue</th>\n",
              "    </tr>\n",
              "  </thead>\n",
              "  <tbody>\n",
              "    <tr>\n",
              "      <th id=\"T_c1fe2_level0_row0\" class=\"row_heading level0 row0\" >300</th>\n",
              "      <td id=\"T_c1fe2_row0_col0\" class=\"data row0 col0\" >301</td>\n",
              "      <td id=\"T_c1fe2_row0_col1\" class=\"data row0 col1\" >IPL-2011</td>\n",
              "      <td id=\"T_c1fe2_row0_col2\" class=\"data row0 col2\" >Delhi</td>\n",
              "      <td id=\"T_c1fe2_row0_col3\" class=\"data row0 col3\" >21-05-2011</td>\n",
              "      <td id=\"T_c1fe2_row0_col4\" class=\"data row0 col4\" >Delhi Capitals</td>\n",
              "      <td id=\"T_c1fe2_row0_col5\" class=\"data row0 col5\" >Rising Pune Supergiant</td>\n",
              "      <td id=\"T_c1fe2_row0_col6\" class=\"data row0 col6\" >Delhi Capitals</td>\n",
              "      <td id=\"T_c1fe2_row0_col7\" class=\"data row0 col7\" >bat</td>\n",
              "      <td id=\"T_c1fe2_row0_col8\" class=\"data row0 col8\" >no result</td>\n",
              "      <td id=\"T_c1fe2_row0_col9\" class=\"data row0 col9\" >0</td>\n",
              "      <td id=\"T_c1fe2_row0_col10\" class=\"data row0 col10\" >nan</td>\n",
              "      <td id=\"T_c1fe2_row0_col11\" class=\"data row0 col11\" >0</td>\n",
              "      <td id=\"T_c1fe2_row0_col12\" class=\"data row0 col12\" >0</td>\n",
              "      <td id=\"T_c1fe2_row0_col13\" class=\"data row0 col13\" >nan</td>\n",
              "      <td id=\"T_c1fe2_row0_col14\" class=\"data row0 col14\" >Feroz Shah Kotla</td>\n",
              "    </tr>\n",
              "    <tr>\n",
              "      <th id=\"T_c1fe2_level0_row1\" class=\"row_heading level0 row1\" >461</th>\n",
              "      <td id=\"T_c1fe2_row1_col0\" class=\"data row1 col0\" >462</td>\n",
              "      <td id=\"T_c1fe2_row1_col1\" class=\"data row1 col1\" >IPL-2014</td>\n",
              "      <td id=\"T_c1fe2_row1_col2\" class=\"data row1 col2\" >nan</td>\n",
              "      <td id=\"T_c1fe2_row1_col3\" class=\"data row1 col3\" >19-04-2014</td>\n",
              "      <td id=\"T_c1fe2_row1_col4\" class=\"data row1 col4\" >Mumbai Indians</td>\n",
              "      <td id=\"T_c1fe2_row1_col5\" class=\"data row1 col5\" >Royal Challengers Bangalore</td>\n",
              "      <td id=\"T_c1fe2_row1_col6\" class=\"data row1 col6\" >Royal Challengers Bangalore</td>\n",
              "      <td id=\"T_c1fe2_row1_col7\" class=\"data row1 col7\" >field</td>\n",
              "      <td id=\"T_c1fe2_row1_col8\" class=\"data row1 col8\" >normal</td>\n",
              "      <td id=\"T_c1fe2_row1_col9\" class=\"data row1 col9\" >0</td>\n",
              "      <td id=\"T_c1fe2_row1_col10\" class=\"data row1 col10\" >Royal Challengers Bangalore</td>\n",
              "      <td id=\"T_c1fe2_row1_col11\" class=\"data row1 col11\" >0</td>\n",
              "      <td id=\"T_c1fe2_row1_col12\" class=\"data row1 col12\" >7</td>\n",
              "      <td id=\"T_c1fe2_row1_col13\" class=\"data row1 col13\" >PA Patel</td>\n",
              "      <td id=\"T_c1fe2_row1_col14\" class=\"data row1 col14\" >Dubai International Cricket Stadium</td>\n",
              "    </tr>\n",
              "    <tr>\n",
              "      <th id=\"T_c1fe2_level0_row2\" class=\"row_heading level0 row2\" >462</th>\n",
              "      <td id=\"T_c1fe2_row2_col0\" class=\"data row2 col0\" >463</td>\n",
              "      <td id=\"T_c1fe2_row2_col1\" class=\"data row2 col1\" >IPL-2014</td>\n",
              "      <td id=\"T_c1fe2_row2_col2\" class=\"data row2 col2\" >nan</td>\n",
              "      <td id=\"T_c1fe2_row2_col3\" class=\"data row2 col3\" >19-04-2014</td>\n",
              "      <td id=\"T_c1fe2_row2_col4\" class=\"data row2 col4\" >Kolkata Knight Riders</td>\n",
              "      <td id=\"T_c1fe2_row2_col5\" class=\"data row2 col5\" >Delhi Capitals</td>\n",
              "      <td id=\"T_c1fe2_row2_col6\" class=\"data row2 col6\" >Kolkata Knight Riders</td>\n",
              "      <td id=\"T_c1fe2_row2_col7\" class=\"data row2 col7\" >bat</td>\n",
              "      <td id=\"T_c1fe2_row2_col8\" class=\"data row2 col8\" >normal</td>\n",
              "      <td id=\"T_c1fe2_row2_col9\" class=\"data row2 col9\" >0</td>\n",
              "      <td id=\"T_c1fe2_row2_col10\" class=\"data row2 col10\" >Delhi Capitals</td>\n",
              "      <td id=\"T_c1fe2_row2_col11\" class=\"data row2 col11\" >0</td>\n",
              "      <td id=\"T_c1fe2_row2_col12\" class=\"data row2 col12\" >4</td>\n",
              "      <td id=\"T_c1fe2_row2_col13\" class=\"data row2 col13\" >JP Duminy</td>\n",
              "      <td id=\"T_c1fe2_row2_col14\" class=\"data row2 col14\" >Dubai International Cricket Stadium</td>\n",
              "    </tr>\n",
              "    <tr>\n",
              "      <th id=\"T_c1fe2_level0_row3\" class=\"row_heading level0 row3\" >466</th>\n",
              "      <td id=\"T_c1fe2_row3_col0\" class=\"data row3 col0\" >467</td>\n",
              "      <td id=\"T_c1fe2_row3_col1\" class=\"data row3 col1\" >IPL-2014</td>\n",
              "      <td id=\"T_c1fe2_row3_col2\" class=\"data row3 col2\" >nan</td>\n",
              "      <td id=\"T_c1fe2_row3_col3\" class=\"data row3 col3\" >23-04-2014</td>\n",
              "      <td id=\"T_c1fe2_row3_col4\" class=\"data row3 col4\" >Chennai Super Kings</td>\n",
              "      <td id=\"T_c1fe2_row3_col5\" class=\"data row3 col5\" >Rajasthan Royals</td>\n",
              "      <td id=\"T_c1fe2_row3_col6\" class=\"data row3 col6\" >Rajasthan Royals</td>\n",
              "      <td id=\"T_c1fe2_row3_col7\" class=\"data row3 col7\" >field</td>\n",
              "      <td id=\"T_c1fe2_row3_col8\" class=\"data row3 col8\" >normal</td>\n",
              "      <td id=\"T_c1fe2_row3_col9\" class=\"data row3 col9\" >0</td>\n",
              "      <td id=\"T_c1fe2_row3_col10\" class=\"data row3 col10\" >Chennai Super Kings</td>\n",
              "      <td id=\"T_c1fe2_row3_col11\" class=\"data row3 col11\" >7</td>\n",
              "      <td id=\"T_c1fe2_row3_col12\" class=\"data row3 col12\" >0</td>\n",
              "      <td id=\"T_c1fe2_row3_col13\" class=\"data row3 col13\" >RA Jadeja</td>\n",
              "      <td id=\"T_c1fe2_row3_col14\" class=\"data row3 col14\" >Dubai International Cricket Stadium</td>\n",
              "    </tr>\n",
              "    <tr>\n",
              "      <th id=\"T_c1fe2_level0_row4\" class=\"row_heading level0 row4\" >468</th>\n",
              "      <td id=\"T_c1fe2_row4_col0\" class=\"data row4 col0\" >469</td>\n",
              "      <td id=\"T_c1fe2_row4_col1\" class=\"data row4 col1\" >IPL-2014</td>\n",
              "      <td id=\"T_c1fe2_row4_col2\" class=\"data row4 col2\" >nan</td>\n",
              "      <td id=\"T_c1fe2_row4_col3\" class=\"data row4 col3\" >25-04-2014</td>\n",
              "      <td id=\"T_c1fe2_row4_col4\" class=\"data row4 col4\" >Sunrisers Hyderabad</td>\n",
              "      <td id=\"T_c1fe2_row4_col5\" class=\"data row4 col5\" >Delhi Capitals</td>\n",
              "      <td id=\"T_c1fe2_row4_col6\" class=\"data row4 col6\" >Sunrisers Hyderabad</td>\n",
              "      <td id=\"T_c1fe2_row4_col7\" class=\"data row4 col7\" >bat</td>\n",
              "      <td id=\"T_c1fe2_row4_col8\" class=\"data row4 col8\" >normal</td>\n",
              "      <td id=\"T_c1fe2_row4_col9\" class=\"data row4 col9\" >0</td>\n",
              "      <td id=\"T_c1fe2_row4_col10\" class=\"data row4 col10\" >Sunrisers Hyderabad</td>\n",
              "      <td id=\"T_c1fe2_row4_col11\" class=\"data row4 col11\" >4</td>\n",
              "      <td id=\"T_c1fe2_row4_col12\" class=\"data row4 col12\" >0</td>\n",
              "      <td id=\"T_c1fe2_row4_col13\" class=\"data row4 col13\" >AJ Finch</td>\n",
              "      <td id=\"T_c1fe2_row4_col14\" class=\"data row4 col14\" >Dubai International Cricket Stadium</td>\n",
              "    </tr>\n",
              "    <tr>\n",
              "      <th id=\"T_c1fe2_level0_row5\" class=\"row_heading level0 row5\" >469</th>\n",
              "      <td id=\"T_c1fe2_row5_col0\" class=\"data row5 col0\" >470</td>\n",
              "      <td id=\"T_c1fe2_row5_col1\" class=\"data row5 col1\" >IPL-2014</td>\n",
              "      <td id=\"T_c1fe2_row5_col2\" class=\"data row5 col2\" >nan</td>\n",
              "      <td id=\"T_c1fe2_row5_col3\" class=\"data row5 col3\" >25-04-2014</td>\n",
              "      <td id=\"T_c1fe2_row5_col4\" class=\"data row5 col4\" >Mumbai Indians</td>\n",
              "      <td id=\"T_c1fe2_row5_col5\" class=\"data row5 col5\" >Chennai Super Kings</td>\n",
              "      <td id=\"T_c1fe2_row5_col6\" class=\"data row5 col6\" >Mumbai Indians</td>\n",
              "      <td id=\"T_c1fe2_row5_col7\" class=\"data row5 col7\" >bat</td>\n",
              "      <td id=\"T_c1fe2_row5_col8\" class=\"data row5 col8\" >normal</td>\n",
              "      <td id=\"T_c1fe2_row5_col9\" class=\"data row5 col9\" >0</td>\n",
              "      <td id=\"T_c1fe2_row5_col10\" class=\"data row5 col10\" >Chennai Super Kings</td>\n",
              "      <td id=\"T_c1fe2_row5_col11\" class=\"data row5 col11\" >0</td>\n",
              "      <td id=\"T_c1fe2_row5_col12\" class=\"data row5 col12\" >7</td>\n",
              "      <td id=\"T_c1fe2_row5_col13\" class=\"data row5 col13\" >MM Sharma</td>\n",
              "      <td id=\"T_c1fe2_row5_col14\" class=\"data row5 col14\" >Dubai International Cricket Stadium</td>\n",
              "    </tr>\n",
              "    <tr>\n",
              "      <th id=\"T_c1fe2_level0_row6\" class=\"row_heading level0 row6\" >474</th>\n",
              "      <td id=\"T_c1fe2_row6_col0\" class=\"data row6 col0\" >475</td>\n",
              "      <td id=\"T_c1fe2_row6_col1\" class=\"data row6 col1\" >IPL-2014</td>\n",
              "      <td id=\"T_c1fe2_row6_col2\" class=\"data row6 col2\" >nan</td>\n",
              "      <td id=\"T_c1fe2_row6_col3\" class=\"data row6 col3\" >28-04-2014</td>\n",
              "      <td id=\"T_c1fe2_row6_col4\" class=\"data row6 col4\" >Royal Challengers Bangalore</td>\n",
              "      <td id=\"T_c1fe2_row6_col5\" class=\"data row6 col5\" >Kings XI Punjab</td>\n",
              "      <td id=\"T_c1fe2_row6_col6\" class=\"data row6 col6\" >Kings XI Punjab</td>\n",
              "      <td id=\"T_c1fe2_row6_col7\" class=\"data row6 col7\" >field</td>\n",
              "      <td id=\"T_c1fe2_row6_col8\" class=\"data row6 col8\" >normal</td>\n",
              "      <td id=\"T_c1fe2_row6_col9\" class=\"data row6 col9\" >0</td>\n",
              "      <td id=\"T_c1fe2_row6_col10\" class=\"data row6 col10\" >Kings XI Punjab</td>\n",
              "      <td id=\"T_c1fe2_row6_col11\" class=\"data row6 col11\" >0</td>\n",
              "      <td id=\"T_c1fe2_row6_col12\" class=\"data row6 col12\" >5</td>\n",
              "      <td id=\"T_c1fe2_row6_col13\" class=\"data row6 col13\" >Sandeep Sharma</td>\n",
              "      <td id=\"T_c1fe2_row6_col14\" class=\"data row6 col14\" >Dubai International Cricket Stadium</td>\n",
              "    </tr>\n",
              "    <tr>\n",
              "      <th id=\"T_c1fe2_level0_row7\" class=\"row_heading level0 row7\" >476</th>\n",
              "      <td id=\"T_c1fe2_row7_col0\" class=\"data row7 col0\" >477</td>\n",
              "      <td id=\"T_c1fe2_row7_col1\" class=\"data row7 col1\" >IPL-2014</td>\n",
              "      <td id=\"T_c1fe2_row7_col2\" class=\"data row7 col2\" >nan</td>\n",
              "      <td id=\"T_c1fe2_row7_col3\" class=\"data row7 col3\" >30-04-2014</td>\n",
              "      <td id=\"T_c1fe2_row7_col4\" class=\"data row7 col4\" >Sunrisers Hyderabad</td>\n",
              "      <td id=\"T_c1fe2_row7_col5\" class=\"data row7 col5\" >Mumbai Indians</td>\n",
              "      <td id=\"T_c1fe2_row7_col6\" class=\"data row7 col6\" >Mumbai Indians</td>\n",
              "      <td id=\"T_c1fe2_row7_col7\" class=\"data row7 col7\" >field</td>\n",
              "      <td id=\"T_c1fe2_row7_col8\" class=\"data row7 col8\" >normal</td>\n",
              "      <td id=\"T_c1fe2_row7_col9\" class=\"data row7 col9\" >0</td>\n",
              "      <td id=\"T_c1fe2_row7_col10\" class=\"data row7 col10\" >Sunrisers Hyderabad</td>\n",
              "      <td id=\"T_c1fe2_row7_col11\" class=\"data row7 col11\" >15</td>\n",
              "      <td id=\"T_c1fe2_row7_col12\" class=\"data row7 col12\" >0</td>\n",
              "      <td id=\"T_c1fe2_row7_col13\" class=\"data row7 col13\" >B Kumar</td>\n",
              "      <td id=\"T_c1fe2_row7_col14\" class=\"data row7 col14\" >Dubai International Cricket Stadium</td>\n",
              "    </tr>\n",
              "    <tr>\n",
              "      <th id=\"T_c1fe2_level0_row8\" class=\"row_heading level0 row8\" >545</th>\n",
              "      <td id=\"T_c1fe2_row8_col0\" class=\"data row8 col0\" >546</td>\n",
              "      <td id=\"T_c1fe2_row8_col1\" class=\"data row8 col1\" >IPL-2015</td>\n",
              "      <td id=\"T_c1fe2_row8_col2\" class=\"data row8 col2\" >Bengaluru</td>\n",
              "      <td id=\"T_c1fe2_row8_col3\" class=\"data row8 col3\" >29-04-2015</td>\n",
              "      <td id=\"T_c1fe2_row8_col4\" class=\"data row8 col4\" >Royal Challengers Bangalore</td>\n",
              "      <td id=\"T_c1fe2_row8_col5\" class=\"data row8 col5\" >Rajasthan Royals</td>\n",
              "      <td id=\"T_c1fe2_row8_col6\" class=\"data row8 col6\" >Rajasthan Royals</td>\n",
              "      <td id=\"T_c1fe2_row8_col7\" class=\"data row8 col7\" >field</td>\n",
              "      <td id=\"T_c1fe2_row8_col8\" class=\"data row8 col8\" >no result</td>\n",
              "      <td id=\"T_c1fe2_row8_col9\" class=\"data row8 col9\" >0</td>\n",
              "      <td id=\"T_c1fe2_row8_col10\" class=\"data row8 col10\" >nan</td>\n",
              "      <td id=\"T_c1fe2_row8_col11\" class=\"data row8 col11\" >0</td>\n",
              "      <td id=\"T_c1fe2_row8_col12\" class=\"data row8 col12\" >0</td>\n",
              "      <td id=\"T_c1fe2_row8_col13\" class=\"data row8 col13\" >nan</td>\n",
              "      <td id=\"T_c1fe2_row8_col14\" class=\"data row8 col14\" >M Chinnaswamy Stadium</td>\n",
              "    </tr>\n",
              "    <tr>\n",
              "      <th id=\"T_c1fe2_level0_row9\" class=\"row_heading level0 row9\" >570</th>\n",
              "      <td id=\"T_c1fe2_row9_col0\" class=\"data row9 col0\" >571</td>\n",
              "      <td id=\"T_c1fe2_row9_col1\" class=\"data row9 col1\" >IPL-2015</td>\n",
              "      <td id=\"T_c1fe2_row9_col2\" class=\"data row9 col2\" >Bengaluru</td>\n",
              "      <td id=\"T_c1fe2_row9_col3\" class=\"data row9 col3\" >17-05-2015</td>\n",
              "      <td id=\"T_c1fe2_row9_col4\" class=\"data row9 col4\" >Delhi Capitals</td>\n",
              "      <td id=\"T_c1fe2_row9_col5\" class=\"data row9 col5\" >Royal Challengers Bangalore</td>\n",
              "      <td id=\"T_c1fe2_row9_col6\" class=\"data row9 col6\" >Royal Challengers Bangalore</td>\n",
              "      <td id=\"T_c1fe2_row9_col7\" class=\"data row9 col7\" >field</td>\n",
              "      <td id=\"T_c1fe2_row9_col8\" class=\"data row9 col8\" >no result</td>\n",
              "      <td id=\"T_c1fe2_row9_col9\" class=\"data row9 col9\" >0</td>\n",
              "      <td id=\"T_c1fe2_row9_col10\" class=\"data row9 col10\" >nan</td>\n",
              "      <td id=\"T_c1fe2_row9_col11\" class=\"data row9 col11\" >0</td>\n",
              "      <td id=\"T_c1fe2_row9_col12\" class=\"data row9 col12\" >0</td>\n",
              "      <td id=\"T_c1fe2_row9_col13\" class=\"data row9 col13\" >nan</td>\n",
              "      <td id=\"T_c1fe2_row9_col14\" class=\"data row9 col14\" >M Chinnaswamy Stadium</td>\n",
              "    </tr>\n",
              "    <tr>\n",
              "      <th id=\"T_c1fe2_level0_row10\" class=\"row_heading level0 row10\" >744</th>\n",
              "      <td id=\"T_c1fe2_row10_col0\" class=\"data row10 col0\" >11340</td>\n",
              "      <td id=\"T_c1fe2_row10_col1\" class=\"data row10 col1\" >IPL-2019</td>\n",
              "      <td id=\"T_c1fe2_row10_col2\" class=\"data row10 col2\" >Bengaluru</td>\n",
              "      <td id=\"T_c1fe2_row10_col3\" class=\"data row10 col3\" >30-04-2019</td>\n",
              "      <td id=\"T_c1fe2_row10_col4\" class=\"data row10 col4\" >Royal Challengers Bangalore</td>\n",
              "      <td id=\"T_c1fe2_row10_col5\" class=\"data row10 col5\" >Rajasthan Royals</td>\n",
              "      <td id=\"T_c1fe2_row10_col6\" class=\"data row10 col6\" >Rajasthan Royals</td>\n",
              "      <td id=\"T_c1fe2_row10_col7\" class=\"data row10 col7\" >field</td>\n",
              "      <td id=\"T_c1fe2_row10_col8\" class=\"data row10 col8\" >no result</td>\n",
              "      <td id=\"T_c1fe2_row10_col9\" class=\"data row10 col9\" >0</td>\n",
              "      <td id=\"T_c1fe2_row10_col10\" class=\"data row10 col10\" >nan</td>\n",
              "      <td id=\"T_c1fe2_row10_col11\" class=\"data row10 col11\" >0</td>\n",
              "      <td id=\"T_c1fe2_row10_col12\" class=\"data row10 col12\" >0</td>\n",
              "      <td id=\"T_c1fe2_row10_col13\" class=\"data row10 col13\" >nan</td>\n",
              "      <td id=\"T_c1fe2_row10_col14\" class=\"data row10 col14\" >M. Chinnaswamy Stadium</td>\n",
              "    </tr>\n",
              "  </tbody>\n",
              "</table>\n"
            ]
          },
          "metadata": {},
          "execution_count": 19
        }
      ]
    },
    {
      "cell_type": "markdown",
      "source": [
        "OBSERVATION:\n",
        "\n",
        "In \"city\" column ,NaN value represent, stadium location is \"Dubai\",so we need to replace all NaN values in \"city\" column with \"Dubai\".\n",
        "\n",
        "In \"winner\" and \"player_of_match\" columns,NaN values are present in Case When Match had \"No Result\" so we will replace them with \"Draw/cancelled\"."
      ],
      "metadata": {
        "id": "Tz3Ohwcf_K15"
      }
    },
    {
      "cell_type": "code",
      "source": [
        "data.loc[[461,462,466,468,469,474,476],'city'] = \"Dubai\""
      ],
      "metadata": {
        "id": "Sxlc-Y6z_CI-"
      },
      "execution_count": null,
      "outputs": []
    },
    {
      "cell_type": "code",
      "source": [
        "data.fillna({\"winner\":\"Draw/Cancelled\",\"player_of_match\":\"Draw/Cancelled\"},inplace=True)"
      ],
      "metadata": {
        "id": "ofn71ubS_CFp"
      },
      "execution_count": null,
      "outputs": []
    },
    {
      "cell_type": "code",
      "source": [
        "# Now let us check again whether any null value left in our dataset\n",
        "data.isna().sum().sum()"
      ],
      "metadata": {
        "colab": {
          "base_uri": "https://localhost:8080/"
        },
        "id": "6ewLwB3s_CDx",
        "outputId": "ef2646d8-ea52-4561-e5bd-0d7003632ff3"
      },
      "execution_count": null,
      "outputs": [
        {
          "output_type": "execute_result",
          "data": {
            "text/plain": [
              "0"
            ]
          },
          "metadata": {},
          "execution_count": 22
        }
      ]
    },
    {
      "cell_type": "markdown",
      "source": [
        "So now our data is cleaned data with no null values ,so we can move further."
      ],
      "metadata": {
        "id": "LvXWU81LBSFY"
      }
    },
    {
      "cell_type": "markdown",
      "source": [
        "CORRELATION"
      ],
      "metadata": {
        "id": "e0cpMCkOBeZH"
      }
    },
    {
      "cell_type": "code",
      "source": [
        "plt.figure(figsize = (10,7))\n",
        "tc = data.corr()\n",
        "sns.heatmap(tc, annot = True, cmap = 'Set3_r', linecolor = 'white', linewidths=0.1)"
      ],
      "metadata": {
        "id": "2bgbYem-tk6i",
        "colab": {
          "base_uri": "https://localhost:8080/",
          "height": 452
        },
        "outputId": "4b60ccb1-6649-43f7-e67b-e86a0d885678"
      },
      "execution_count": null,
      "outputs": [
        {
          "output_type": "execute_result",
          "data": {
            "text/plain": [
              "<matplotlib.axes._subplots.AxesSubplot at 0x7f4a63115490>"
            ]
          },
          "metadata": {},
          "execution_count": 23
        },
        {
          "output_type": "display_data",
          "data": {
            "text/plain": [
              "<Figure size 720x504 with 2 Axes>"
            ],
            "image/png": "[encoded data removed]"
          },
          "metadata": {
            "needs_background": "light"
          }
        }
      ]
    },
    {
      "cell_type": "markdown",
      "source": [
        "EXPLORATORY DATA ANALUSIS WITH VISUALIZATION"
      ],
      "metadata": {
        "id": "EvMJ6CNMBmyr"
      }
    },
    {
      "cell_type": "markdown",
      "source": [
        "First we will find total number of matches played between 2008-2019"
      ],
      "metadata": {
        "id": "5Ad_qHlUBuRM"
      }
    },
    {
      "cell_type": "code",
      "source": [
        "data.id.count()"
      ],
      "metadata": {
        "id": "sDgObWcwthUs",
        "colab": {
          "base_uri": "https://localhost:8080/"
        },
        "outputId": "1849cdb4-297b-4353-84a9-9a46f07e685e"
      },
      "execution_count": null,
      "outputs": [
        {
          "output_type": "execute_result",
          "data": {
            "text/plain": [
              "756"
            ]
          },
          "metadata": {},
          "execution_count": 24
        }
      ]
    },
    {
      "cell_type": "markdown",
      "source": [
        "So 756 matches have been played "
      ],
      "metadata": {
        "id": "VxxlDzfeB6iO"
      }
    },
    {
      "cell_type": "markdown",
      "source": [
        "Let's have alook to the number of matches where result was \"tie\""
      ],
      "metadata": {
        "id": "0whbSPYVCCf5"
      }
    },
    {
      "cell_type": "code",
      "source": [
        "regular_matches = data[data.result == 'tie'].count()\n",
        "regular_matches.result"
      ],
      "metadata": {
        "colab": {
          "base_uri": "https://localhost:8080/"
        },
        "id": "MgwwzU_jB3IN",
        "outputId": "b130080d-0560-4d9e-bcc0-fab712c34d73"
      },
      "execution_count": null,
      "outputs": [
        {
          "output_type": "execute_result",
          "data": {
            "text/plain": [
              "9"
            ]
          },
          "metadata": {},
          "execution_count": 25
        }
      ]
    },
    {
      "cell_type": "markdown",
      "source": [
        "out of 756 matches 9 were tie"
      ],
      "metadata": {
        "id": "vitdBVbXCZiH"
      }
    },
    {
      "cell_type": "markdown",
      "source": [
        "Total matches played in each city"
      ],
      "metadata": {
        "id": "c6_Tju0vnifZ"
      }
    },
    {
      "cell_type": "code",
      "source": [
        "cities = data.groupby('city')[['id']].count()\n",
        "cities"
      ],
      "metadata": {
        "colab": {
          "base_uri": "https://localhost:8080/",
          "height": 1000
        },
        "id": "WfnSyN4BCYPo",
        "outputId": "34129d85-8e84-4e74-aad0-e644dda67d9c"
      },
      "execution_count": null,
      "outputs": [
        {
          "output_type": "execute_result",
          "data": {
            "text/plain": [
              "                 id\n",
              "city               \n",
              "Abu Dhabi         7\n",
              "Ahmedabad        12\n",
              "Bengaluru        80\n",
              "Bloemfontein      2\n",
              "Cape Town         7\n",
              "Centurion        12\n",
              "Chandigarh       46\n",
              "Chennai          57\n",
              "Cuttack           7\n",
              "Delhi            74\n",
              "Dharamsala        9\n",
              "Dubai             7\n",
              "Durban           15\n",
              "East London       3\n",
              "Hyderabad        64\n",
              "Indore            9\n",
              "Jaipur           47\n",
              "Johannesburg      8\n",
              "Kanpur            4\n",
              "Kimberley         3\n",
              "Kochi             5\n",
              "Kolkata          77\n",
              "Mohali           10\n",
              "Mumbai          101\n",
              "Nagpur            3\n",
              "Port Elizabeth    7\n",
              "Pune             38\n",
              "Raipur            6\n",
              "Rajkot           10\n",
              "Ranchi            7\n",
              "Sharjah           6\n",
              "Visakhapatnam    13"
            ],
            "text/html": [
              "\n",
              "  <div id=\"df-a4eacded-dc80-448d-a5e8-c8e455c52948\">\n",
              "    <div class=\"colab-df-container\">\n",
              "      <div>\n",
              "<style scoped>\n",
              "    .dataframe tbody tr th:only-of-type {\n",
              "        vertical-align: middle;\n",
              "    }\n",
              "\n",
              "    .dataframe tbody tr th {\n",
              "        vertical-align: top;\n",
              "    }\n",
              "\n",
              "    .dataframe thead th {\n",
              "        text-align: right;\n",
              "    }\n",
              "</style>\n",
              "<table border=\"1\" class=\"dataframe\">\n",
              "  <thead>\n",
              "    <tr style=\"text-align: right;\">\n",
              "      <th></th>\n",
              "      <th>id</th>\n",
              "    </tr>\n",
              "    <tr>\n",
              "      <th>city</th>\n",
              "      <th></th>\n",
              "    </tr>\n",
              "  </thead>\n",
              "  <tbody>\n",
              "    <tr>\n",
              "      <th>Abu Dhabi</th>\n",
              "      <td>7</td>\n",
              "    </tr>\n",
              "    <tr>\n",
              "      <th>Ahmedabad</th>\n",
              "      <td>12</td>\n",
              "    </tr>\n",
              "    <tr>\n",
              "      <th>Bengaluru</th>\n",
              "      <td>80</td>\n",
              "    </tr>\n",
              "    <tr>\n",
              "      <th>Bloemfontein</th>\n",
              "      <td>2</td>\n",
              "    </tr>\n",
              "    <tr>\n",
              "      <th>Cape Town</th>\n",
              "      <td>7</td>\n",
              "    </tr>\n",
              "    <tr>\n",
              "      <th>Centurion</th>\n",
              "      <td>12</td>\n",
              "    </tr>\n",
              "    <tr>\n",
              "      <th>Chandigarh</th>\n",
              "      <td>46</td>\n",
              "    </tr>\n",
              "    <tr>\n",
              "      <th>Chennai</th>\n",
              "      <td>57</td>\n",
              "    </tr>\n",
              "    <tr>\n",
              "      <th>Cuttack</th>\n",
              "      <td>7</td>\n",
              "    </tr>\n",
              "    <tr>\n",
              "      <th>Delhi</th>\n",
              "      <td>74</td>\n",
              "    </tr>\n",
              "    <tr>\n",
              "      <th>Dharamsala</th>\n",
              "      <td>9</td>\n",
              "    </tr>\n",
              "    <tr>\n",
              "      <th>Dubai</th>\n",
              "      <td>7</td>\n",
              "    </tr>\n",
              "    <tr>\n",
              "      <th>Durban</th>\n",
              "      <td>15</td>\n",
              "    </tr>\n",
              "    <tr>\n",
              "      <th>East London</th>\n",
              "      <td>3</td>\n",
              "    </tr>\n",
              "    <tr>\n",
              "      <th>Hyderabad</th>\n",
              "      <td>64</td>\n",
              "    </tr>\n",
              "    <tr>\n",
              "      <th>Indore</th>\n",
              "      <td>9</td>\n",
              "    </tr>\n",
              "    <tr>\n",
              "      <th>Jaipur</th>\n",
              "      <td>47</td>\n",
              "    </tr>\n",
              "    <tr>\n",
              "      <th>Johannesburg</th>\n",
              "      <td>8</td>\n",
              "    </tr>\n",
              "    <tr>\n",
              "      <th>Kanpur</th>\n",
              "      <td>4</td>\n",
              "    </tr>\n",
              "    <tr>\n",
              "      <th>Kimberley</th>\n",
              "      <td>3</td>\n",
              "    </tr>\n",
              "    <tr>\n",
              "      <th>Kochi</th>\n",
              "      <td>5</td>\n",
              "    </tr>\n",
              "    <tr>\n",
              "      <th>Kolkata</th>\n",
              "      <td>77</td>\n",
              "    </tr>\n",
              "    <tr>\n",
              "      <th>Mohali</th>\n",
              "      <td>10</td>\n",
              "    </tr>\n",
              "    <tr>\n",
              "      <th>Mumbai</th>\n",
              "      <td>101</td>\n",
              "    </tr>\n",
              "    <tr>\n",
              "      <th>Nagpur</th>\n",
              "      <td>3</td>\n",
              "    </tr>\n",
              "    <tr>\n",
              "      <th>Port Elizabeth</th>\n",
              "      <td>7</td>\n",
              "    </tr>\n",
              "    <tr>\n",
              "      <th>Pune</th>\n",
              "      <td>38</td>\n",
              "    </tr>\n",
              "    <tr>\n",
              "      <th>Raipur</th>\n",
              "      <td>6</td>\n",
              "    </tr>\n",
              "    <tr>\n",
              "      <th>Rajkot</th>\n",
              "      <td>10</td>\n",
              "    </tr>\n",
              "    <tr>\n",
              "      <th>Ranchi</th>\n",
              "      <td>7</td>\n",
              "    </tr>\n",
              "    <tr>\n",
              "      <th>Sharjah</th>\n",
              "      <td>6</td>\n",
              "    </tr>\n",
              "    <tr>\n",
              "      <th>Visakhapatnam</th>\n",
              "      <td>13</td>\n",
              "    </tr>\n",
              "  </tbody>\n",
              "</table>\n",
              "</div>\n",
              "      <button class=\"colab-df-convert\" onclick=\"convertToInteractive('df-a4eacded-dc80-448d-a5e8-c8e455c52948')\"\n",
              "              title=\"Convert this dataframe to an interactive table.\"\n",
              "              style=\"display:none;\">\n",
              "        \n",
              "  <svg xmlns=\"http://www.w3.org/2000/svg\" height=\"24px\"viewBox=\"0 0 24 24\"\n",
              "       width=\"24px\">\n",
              "    <path d=\"M0 0h24v24H0V0z\" fill=\"none\"/>\n",
              "    <path d=\"M18.56 5.44l.94 2.06.94-2.06 2.06-.94-2.06-.94-.94-2.06-.94 2.06-2.06.94zm-11 1L8.5 8.5l.94-2.06 2.06-.94-2.06-.94L8.5 2.5l-.94 2.06-2.06.94zm10 10l.94 2.06.94-2.06 2.06-.94-2.06-.94-.94-2.06-.94 2.06-2.06.94z\"/><path d=\"M17.41 7.96l-1.37-1.37c-.4-.4-.92-.59-1.43-.59-.52 0-1.04.2-1.43.59L10.3 9.45l-7.72 7.72c-.78.78-.78 2.05 0 2.83L4 21.41c.39.39.9.59 1.41.59.51 0 1.02-.2 1.41-.59l7.78-7.78 2.81-2.81c.8-.78.8-2.07 0-2.86zM5.41 20L4 18.59l7.72-7.72 1.47 1.35L5.41 20z\"/>\n",
              "  </svg>\n",
              "      </button>\n",
              "      \n",
              "  <style>\n",
              "    .colab-df-container {\n",
              "      display:flex;\n",
              "      flex-wrap:wrap;\n",
              "      gap: 12px;\n",
              "    }\n",
              "\n",
              "    .colab-df-convert {\n",
              "      background-color: #E8F0FE;\n",
              "      border: none;\n",
              "      border-radius: 50%;\n",
              "      cursor: pointer;\n",
              "      display: none;\n",
              "      fill: #1967D2;\n",
              "      height: 32px;\n",
              "      padding: 0 0 0 0;\n",
              "      width: 32px;\n",
              "    }\n",
              "\n",
              "    .colab-df-convert:hover {\n",
              "      background-color: #E2EBFA;\n",
              "      box-shadow: 0px 1px 2px rgba(60, 64, 67, 0.3), 0px 1px 3px 1px rgba(60, 64, 67, 0.15);\n",
              "      fill: #174EA6;\n",
              "    }\n",
              "\n",
              "    [theme=dark] .colab-df-convert {\n",
              "      background-color: #3B4455;\n",
              "      fill: #D2E3FC;\n",
              "    }\n",
              "\n",
              "    [theme=dark] .colab-df-convert:hover {\n",
              "      background-color: #434B5C;\n",
              "      box-shadow: 0px 1px 3px 1px rgba(0, 0, 0, 0.15);\n",
              "      filter: drop-shadow(0px 1px 2px rgba(0, 0, 0, 0.3));\n",
              "      fill: #FFFFFF;\n",
              "    }\n",
              "  </style>\n",
              "\n",
              "      <script>\n",
              "        const buttonEl =\n",
              "          document.querySelector('#df-a4eacded-dc80-448d-a5e8-c8e455c52948 button.colab-df-convert');\n",
              "        buttonEl.style.display =\n",
              "          google.colab.kernel.accessAllowed ? 'block' : 'none';\n",
              "\n",
              "        async function convertToInteractive(key) {\n",
              "          const element = document.querySelector('#df-a4eacded-dc80-448d-a5e8-c8e455c52948');\n",
              "          const dataTable =\n",
              "            await google.colab.kernel.invokeFunction('convertToInteractive',\n",
              "                                                     [key], {});\n",
              "          if (!dataTable) return;\n",
              "\n",
              "          const docLinkHtml = 'Like what you see? Visit the ' +\n",
              "            '<a target=\"_blank\" href=https://colab.research.google.com/notebooks/data_table.ipynb>data table notebook</a>'\n",
              "            + ' to learn more about interactive tables.';\n",
              "          element.innerHTML = '';\n",
              "          dataTable['output_type'] = 'display_data';\n",
              "          await google.colab.output.renderOutput(dataTable, element);\n",
              "          const docLink = document.createElement('div');\n",
              "          docLink.innerHTML = docLinkHtml;\n",
              "          element.appendChild(docLink);\n",
              "        }\n",
              "      </script>\n",
              "    </div>\n",
              "  </div>\n",
              "  "
            ]
          },
          "metadata": {},
          "execution_count": 26
        }
      ]
    },
    {
      "cell_type": "code",
      "source": [
        "cities = cities.sort_values('id',ascending=False).reset_index()\n",
        "cities"
      ],
      "metadata": {
        "colab": {
          "base_uri": "https://localhost:8080/",
          "height": 1000
        },
        "id": "75buTLr9nn7H",
        "outputId": "ff595316-986b-4161-fe41-fd5f9ffe3554"
      },
      "execution_count": null,
      "outputs": [
        {
          "output_type": "execute_result",
          "data": {
            "text/plain": [
              "              city   id\n",
              "0           Mumbai  101\n",
              "1        Bengaluru   80\n",
              "2          Kolkata   77\n",
              "3            Delhi   74\n",
              "4        Hyderabad   64\n",
              "5          Chennai   57\n",
              "6           Jaipur   47\n",
              "7       Chandigarh   46\n",
              "8             Pune   38\n",
              "9           Durban   15\n",
              "10   Visakhapatnam   13\n",
              "11       Centurion   12\n",
              "12       Ahmedabad   12\n",
              "13          Rajkot   10\n",
              "14          Mohali   10\n",
              "15      Dharamsala    9\n",
              "16          Indore    9\n",
              "17    Johannesburg    8\n",
              "18          Ranchi    7\n",
              "19  Port Elizabeth    7\n",
              "20       Cape Town    7\n",
              "21           Dubai    7\n",
              "22         Cuttack    7\n",
              "23       Abu Dhabi    7\n",
              "24          Raipur    6\n",
              "25         Sharjah    6\n",
              "26           Kochi    5\n",
              "27          Kanpur    4\n",
              "28       Kimberley    3\n",
              "29          Nagpur    3\n",
              "30     East London    3\n",
              "31    Bloemfontein    2"
            ],
            "text/html": [
              "\n",
              "  <div id=\"df-24be319e-4cc2-4699-b34d-fed3ef8476d6\">\n",
              "    <div class=\"colab-df-container\">\n",
              "      <div>\n",
              "<style scoped>\n",
              "    .dataframe tbody tr th:only-of-type {\n",
              "        vertical-align: middle;\n",
              "    }\n",
              "\n",
              "    .dataframe tbody tr th {\n",
              "        vertical-align: top;\n",
              "    }\n",
              "\n",
              "    .dataframe thead th {\n",
              "        text-align: right;\n",
              "    }\n",
              "</style>\n",
              "<table border=\"1\" class=\"dataframe\">\n",
              "  <thead>\n",
              "    <tr style=\"text-align: right;\">\n",
              "      <th></th>\n",
              "      <th>city</th>\n",
              "      <th>id</th>\n",
              "    </tr>\n",
              "  </thead>\n",
              "  <tbody>\n",
              "    <tr>\n",
              "      <th>0</th>\n",
              "      <td>Mumbai</td>\n",
              "      <td>101</td>\n",
              "    </tr>\n",
              "    <tr>\n",
              "      <th>1</th>\n",
              "      <td>Bengaluru</td>\n",
              "      <td>80</td>\n",
              "    </tr>\n",
              "    <tr>\n",
              "      <th>2</th>\n",
              "      <td>Kolkata</td>\n",
              "      <td>77</td>\n",
              "    </tr>\n",
              "    <tr>\n",
              "      <th>3</th>\n",
              "      <td>Delhi</td>\n",
              "      <td>74</td>\n",
              "    </tr>\n",
              "    <tr>\n",
              "      <th>4</th>\n",
              "      <td>Hyderabad</td>\n",
              "      <td>64</td>\n",
              "    </tr>\n",
              "    <tr>\n",
              "      <th>5</th>\n",
              "      <td>Chennai</td>\n",
              "      <td>57</td>\n",
              "    </tr>\n",
              "    <tr>\n",
              "      <th>6</th>\n",
              "      <td>Jaipur</td>\n",
              "      <td>47</td>\n",
              "    </tr>\n",
              "    <tr>\n",
              "      <th>7</th>\n",
              "      <td>Chandigarh</td>\n",
              "      <td>46</td>\n",
              "    </tr>\n",
              "    <tr>\n",
              "      <th>8</th>\n",
              "      <td>Pune</td>\n",
              "      <td>38</td>\n",
              "    </tr>\n",
              "    <tr>\n",
              "      <th>9</th>\n",
              "      <td>Durban</td>\n",
              "      <td>15</td>\n",
              "    </tr>\n",
              "    <tr>\n",
              "      <th>10</th>\n",
              "      <td>Visakhapatnam</td>\n",
              "      <td>13</td>\n",
              "    </tr>\n",
              "    <tr>\n",
              "      <th>11</th>\n",
              "      <td>Centurion</td>\n",
              "      <td>12</td>\n",
              "    </tr>\n",
              "    <tr>\n",
              "      <th>12</th>\n",
              "      <td>Ahmedabad</td>\n",
              "      <td>12</td>\n",
              "    </tr>\n",
              "    <tr>\n",
              "      <th>13</th>\n",
              "      <td>Rajkot</td>\n",
              "      <td>10</td>\n",
              "    </tr>\n",
              "    <tr>\n",
              "      <th>14</th>\n",
              "      <td>Mohali</td>\n",
              "      <td>10</td>\n",
              "    </tr>\n",
              "    <tr>\n",
              "      <th>15</th>\n",
              "      <td>Dharamsala</td>\n",
              "      <td>9</td>\n",
              "    </tr>\n",
              "    <tr>\n",
              "      <th>16</th>\n",
              "      <td>Indore</td>\n",
              "      <td>9</td>\n",
              "    </tr>\n",
              "    <tr>\n",
              "      <th>17</th>\n",
              "      <td>Johannesburg</td>\n",
              "      <td>8</td>\n",
              "    </tr>\n",
              "    <tr>\n",
              "      <th>18</th>\n",
              "      <td>Ranchi</td>\n",
              "      <td>7</td>\n",
              "    </tr>\n",
              "    <tr>\n",
              "      <th>19</th>\n",
              "      <td>Port Elizabeth</td>\n",
              "      <td>7</td>\n",
              "    </tr>\n",
              "    <tr>\n",
              "      <th>20</th>\n",
              "      <td>Cape Town</td>\n",
              "      <td>7</td>\n",
              "    </tr>\n",
              "    <tr>\n",
              "      <th>21</th>\n",
              "      <td>Dubai</td>\n",
              "      <td>7</td>\n",
              "    </tr>\n",
              "    <tr>\n",
              "      <th>22</th>\n",
              "      <td>Cuttack</td>\n",
              "      <td>7</td>\n",
              "    </tr>\n",
              "    <tr>\n",
              "      <th>23</th>\n",
              "      <td>Abu Dhabi</td>\n",
              "      <td>7</td>\n",
              "    </tr>\n",
              "    <tr>\n",
              "      <th>24</th>\n",
              "      <td>Raipur</td>\n",
              "      <td>6</td>\n",
              "    </tr>\n",
              "    <tr>\n",
              "      <th>25</th>\n",
              "      <td>Sharjah</td>\n",
              "      <td>6</td>\n",
              "    </tr>\n",
              "    <tr>\n",
              "      <th>26</th>\n",
              "      <td>Kochi</td>\n",
              "      <td>5</td>\n",
              "    </tr>\n",
              "    <tr>\n",
              "      <th>27</th>\n",
              "      <td>Kanpur</td>\n",
              "      <td>4</td>\n",
              "    </tr>\n",
              "    <tr>\n",
              "      <th>28</th>\n",
              "      <td>Kimberley</td>\n",
              "      <td>3</td>\n",
              "    </tr>\n",
              "    <tr>\n",
              "      <th>29</th>\n",
              "      <td>Nagpur</td>\n",
              "      <td>3</td>\n",
              "    </tr>\n",
              "    <tr>\n",
              "      <th>30</th>\n",
              "      <td>East London</td>\n",
              "      <td>3</td>\n",
              "    </tr>\n",
              "    <tr>\n",
              "      <th>31</th>\n",
              "      <td>Bloemfontein</td>\n",
              "      <td>2</td>\n",
              "    </tr>\n",
              "  </tbody>\n",
              "</table>\n",
              "</div>\n",
              "      <button class=\"colab-df-convert\" onclick=\"convertToInteractive('df-24be319e-4cc2-4699-b34d-fed3ef8476d6')\"\n",
              "              title=\"Convert this dataframe to an interactive table.\"\n",
              "              style=\"display:none;\">\n",
              "        \n",
              "  <svg xmlns=\"http://www.w3.org/2000/svg\" height=\"24px\"viewBox=\"0 0 24 24\"\n",
              "       width=\"24px\">\n",
              "    <path d=\"M0 0h24v24H0V0z\" fill=\"none\"/>\n",
              "    <path d=\"M18.56 5.44l.94 2.06.94-2.06 2.06-.94-2.06-.94-.94-2.06-.94 2.06-2.06.94zm-11 1L8.5 8.5l.94-2.06 2.06-.94-2.06-.94L8.5 2.5l-.94 2.06-2.06.94zm10 10l.94 2.06.94-2.06 2.06-.94-2.06-.94-.94-2.06-.94 2.06-2.06.94z\"/><path d=\"M17.41 7.96l-1.37-1.37c-.4-.4-.92-.59-1.43-.59-.52 0-1.04.2-1.43.59L10.3 9.45l-7.72 7.72c-.78.78-.78 2.05 0 2.83L4 21.41c.39.39.9.59 1.41.59.51 0 1.02-.2 1.41-.59l7.78-7.78 2.81-2.81c.8-.78.8-2.07 0-2.86zM5.41 20L4 18.59l7.72-7.72 1.47 1.35L5.41 20z\"/>\n",
              "  </svg>\n",
              "      </button>\n",
              "      \n",
              "  <style>\n",
              "    .colab-df-container {\n",
              "      display:flex;\n",
              "      flex-wrap:wrap;\n",
              "      gap: 12px;\n",
              "    }\n",
              "\n",
              "    .colab-df-convert {\n",
              "      background-color: #E8F0FE;\n",
              "      border: none;\n",
              "      border-radius: 50%;\n",
              "      cursor: pointer;\n",
              "      display: none;\n",
              "      fill: #1967D2;\n",
              "      height: 32px;\n",
              "      padding: 0 0 0 0;\n",
              "      width: 32px;\n",
              "    }\n",
              "\n",
              "    .colab-df-convert:hover {\n",
              "      background-color: #E2EBFA;\n",
              "      box-shadow: 0px 1px 2px rgba(60, 64, 67, 0.3), 0px 1px 3px 1px rgba(60, 64, 67, 0.15);\n",
              "      fill: #174EA6;\n",
              "    }\n",
              "\n",
              "    [theme=dark] .colab-df-convert {\n",
              "      background-color: #3B4455;\n",
              "      fill: #D2E3FC;\n",
              "    }\n",
              "\n",
              "    [theme=dark] .colab-df-convert:hover {\n",
              "      background-color: #434B5C;\n",
              "      box-shadow: 0px 1px 3px 1px rgba(0, 0, 0, 0.15);\n",
              "      filter: drop-shadow(0px 1px 2px rgba(0, 0, 0, 0.3));\n",
              "      fill: #FFFFFF;\n",
              "    }\n",
              "  </style>\n",
              "\n",
              "      <script>\n",
              "        const buttonEl =\n",
              "          document.querySelector('#df-24be319e-4cc2-4699-b34d-fed3ef8476d6 button.colab-df-convert');\n",
              "        buttonEl.style.display =\n",
              "          google.colab.kernel.accessAllowed ? 'block' : 'none';\n",
              "\n",
              "        async function convertToInteractive(key) {\n",
              "          const element = document.querySelector('#df-24be319e-4cc2-4699-b34d-fed3ef8476d6');\n",
              "          const dataTable =\n",
              "            await google.colab.kernel.invokeFunction('convertToInteractive',\n",
              "                                                     [key], {});\n",
              "          if (!dataTable) return;\n",
              "\n",
              "          const docLinkHtml = 'Like what you see? Visit the ' +\n",
              "            '<a target=\"_blank\" href=https://colab.research.google.com/notebooks/data_table.ipynb>data table notebook</a>'\n",
              "            + ' to learn more about interactive tables.';\n",
              "          element.innerHTML = '';\n",
              "          dataTable['output_type'] = 'display_data';\n",
              "          await google.colab.output.renderOutput(dataTable, element);\n",
              "          const docLink = document.createElement('div');\n",
              "          docLink.innerHTML = docLinkHtml;\n",
              "          element.appendChild(docLink);\n",
              "        }\n",
              "      </script>\n",
              "    </div>\n",
              "  </div>\n",
              "  "
            ]
          },
          "metadata": {},
          "execution_count": 27
        }
      ]
    },
    {
      "cell_type": "markdown",
      "source": [
        "we can clearly come to know that there are 32 locations where IPL has been played between 2008-2019.\n",
        "\n",
        "Now it's time for visualizing it."
      ],
      "metadata": {
        "id": "gQR7zZDtn4JV"
      }
    },
    {
      "cell_type": "code",
      "source": [
        "plt.figure(figsize=(20,10))\n",
        "sns.barplot(x='id',y='city',data=cities,palette='winter')\n",
        "plt.xlabel(\"Total matches played\",fontsize=15)\n",
        "plt.ylabel(\"City\",fontsize=25)\n",
        "plt.show()"
      ],
      "metadata": {
        "colab": {
          "base_uri": "https://localhost:8080/",
          "height": 611
        },
        "id": "MoZ0KhAunwsg",
        "outputId": "b6e71c04-2849-43c4-9dea-ba63d90a9cb4"
      },
      "execution_count": null,
      "outputs": [
        {
          "output_type": "display_data",
          "data": {
            "text/plain": [
              "<Figure size 1440x720 with 1 Axes>"
            ],
            "image/png": "[encoded data removed]"
          },
          "metadata": {
            "needs_background": "light"
          }
        }
      ]
    },
    {
      "cell_type": "markdown",
      "source": [
        "It seems Mumbai is favourite location of IPL matches where maximum number of matches has been played followed by Bengaluru , Kolkata and Delhi."
      ],
      "metadata": {
        "id": "NndTRonkqR7X"
      }
    },
    {
      "cell_type": "markdown",
      "source": [
        "Total matches played every year"
      ],
      "metadata": {
        "id": "neMEyKtYqtEP"
      }
    },
    {
      "cell_type": "code",
      "source": [
        "Total_matches = data.groupby('Season')[['id']].count()\n",
        "Total_matches"
      ],
      "metadata": {
        "colab": {
          "base_uri": "https://localhost:8080/",
          "height": 457
        },
        "id": "4HXK0nsLoyIf",
        "outputId": "029234b1-6f42-4b8e-a6a7-9421d62c4689"
      },
      "execution_count": null,
      "outputs": [
        {
          "output_type": "execute_result",
          "data": {
            "text/plain": [
              "          id\n",
              "Season      \n",
              "IPL-2008  58\n",
              "IPL-2009  57\n",
              "IPL-2010  60\n",
              "IPL-2011  73\n",
              "IPL-2012  74\n",
              "IPL-2013  76\n",
              "IPL-2014  60\n",
              "IPL-2015  59\n",
              "IPL-2016  60\n",
              "IPL-2017  59\n",
              "IPL-2018  60\n",
              "IPL-2019  60"
            ],
            "text/html": [
              "\n",
              "  <div id=\"df-e315b34e-5482-4bcf-8ea5-b75bfca19117\">\n",
              "    <div class=\"colab-df-container\">\n",
              "      <div>\n",
              "<style scoped>\n",
              "    .dataframe tbody tr th:only-of-type {\n",
              "        vertical-align: middle;\n",
              "    }\n",
              "\n",
              "    .dataframe tbody tr th {\n",
              "        vertical-align: top;\n",
              "    }\n",
              "\n",
              "    .dataframe thead th {\n",
              "        text-align: right;\n",
              "    }\n",
              "</style>\n",
              "<table border=\"1\" class=\"dataframe\">\n",
              "  <thead>\n",
              "    <tr style=\"text-align: right;\">\n",
              "      <th></th>\n",
              "      <th>id</th>\n",
              "    </tr>\n",
              "    <tr>\n",
              "      <th>Season</th>\n",
              "      <th></th>\n",
              "    </tr>\n",
              "  </thead>\n",
              "  <tbody>\n",
              "    <tr>\n",
              "      <th>IPL-2008</th>\n",
              "      <td>58</td>\n",
              "    </tr>\n",
              "    <tr>\n",
              "      <th>IPL-2009</th>\n",
              "      <td>57</td>\n",
              "    </tr>\n",
              "    <tr>\n",
              "      <th>IPL-2010</th>\n",
              "      <td>60</td>\n",
              "    </tr>\n",
              "    <tr>\n",
              "      <th>IPL-2011</th>\n",
              "      <td>73</td>\n",
              "    </tr>\n",
              "    <tr>\n",
              "      <th>IPL-2012</th>\n",
              "      <td>74</td>\n",
              "    </tr>\n",
              "    <tr>\n",
              "      <th>IPL-2013</th>\n",
              "      <td>76</td>\n",
              "    </tr>\n",
              "    <tr>\n",
              "      <th>IPL-2014</th>\n",
              "      <td>60</td>\n",
              "    </tr>\n",
              "    <tr>\n",
              "      <th>IPL-2015</th>\n",
              "      <td>59</td>\n",
              "    </tr>\n",
              "    <tr>\n",
              "      <th>IPL-2016</th>\n",
              "      <td>60</td>\n",
              "    </tr>\n",
              "    <tr>\n",
              "      <th>IPL-2017</th>\n",
              "      <td>59</td>\n",
              "    </tr>\n",
              "    <tr>\n",
              "      <th>IPL-2018</th>\n",
              "      <td>60</td>\n",
              "    </tr>\n",
              "    <tr>\n",
              "      <th>IPL-2019</th>\n",
              "      <td>60</td>\n",
              "    </tr>\n",
              "  </tbody>\n",
              "</table>\n",
              "</div>\n",
              "      <button class=\"colab-df-convert\" onclick=\"convertToInteractive('df-e315b34e-5482-4bcf-8ea5-b75bfca19117')\"\n",
              "              title=\"Convert this dataframe to an interactive table.\"\n",
              "              style=\"display:none;\">\n",
              "        \n",
              "  <svg xmlns=\"http://www.w3.org/2000/svg\" height=\"24px\"viewBox=\"0 0 24 24\"\n",
              "       width=\"24px\">\n",
              "    <path d=\"M0 0h24v24H0V0z\" fill=\"none\"/>\n",
              "    <path d=\"M18.56 5.44l.94 2.06.94-2.06 2.06-.94-2.06-.94-.94-2.06-.94 2.06-2.06.94zm-11 1L8.5 8.5l.94-2.06 2.06-.94-2.06-.94L8.5 2.5l-.94 2.06-2.06.94zm10 10l.94 2.06.94-2.06 2.06-.94-2.06-.94-.94-2.06-.94 2.06-2.06.94z\"/><path d=\"M17.41 7.96l-1.37-1.37c-.4-.4-.92-.59-1.43-.59-.52 0-1.04.2-1.43.59L10.3 9.45l-7.72 7.72c-.78.78-.78 2.05 0 2.83L4 21.41c.39.39.9.59 1.41.59.51 0 1.02-.2 1.41-.59l7.78-7.78 2.81-2.81c.8-.78.8-2.07 0-2.86zM5.41 20L4 18.59l7.72-7.72 1.47 1.35L5.41 20z\"/>\n",
              "  </svg>\n",
              "      </button>\n",
              "      \n",
              "  <style>\n",
              "    .colab-df-container {\n",
              "      display:flex;\n",
              "      flex-wrap:wrap;\n",
              "      gap: 12px;\n",
              "    }\n",
              "\n",
              "    .colab-df-convert {\n",
              "      background-color: #E8F0FE;\n",
              "      border: none;\n",
              "      border-radius: 50%;\n",
              "      cursor: pointer;\n",
              "      display: none;\n",
              "      fill: #1967D2;\n",
              "      height: 32px;\n",
              "      padding: 0 0 0 0;\n",
              "      width: 32px;\n",
              "    }\n",
              "\n",
              "    .colab-df-convert:hover {\n",
              "      background-color: #E2EBFA;\n",
              "      box-shadow: 0px 1px 2px rgba(60, 64, 67, 0.3), 0px 1px 3px 1px rgba(60, 64, 67, 0.15);\n",
              "      fill: #174EA6;\n",
              "    }\n",
              "\n",
              "    [theme=dark] .colab-df-convert {\n",
              "      background-color: #3B4455;\n",
              "      fill: #D2E3FC;\n",
              "    }\n",
              "\n",
              "    [theme=dark] .colab-df-convert:hover {\n",
              "      background-color: #434B5C;\n",
              "      box-shadow: 0px 1px 3px 1px rgba(0, 0, 0, 0.15);\n",
              "      filter: drop-shadow(0px 1px 2px rgba(0, 0, 0, 0.3));\n",
              "      fill: #FFFFFF;\n",
              "    }\n",
              "  </style>\n",
              "\n",
              "      <script>\n",
              "        const buttonEl =\n",
              "          document.querySelector('#df-e315b34e-5482-4bcf-8ea5-b75bfca19117 button.colab-df-convert');\n",
              "        buttonEl.style.display =\n",
              "          google.colab.kernel.accessAllowed ? 'block' : 'none';\n",
              "\n",
              "        async function convertToInteractive(key) {\n",
              "          const element = document.querySelector('#df-e315b34e-5482-4bcf-8ea5-b75bfca19117');\n",
              "          const dataTable =\n",
              "            await google.colab.kernel.invokeFunction('convertToInteractive',\n",
              "                                                     [key], {});\n",
              "          if (!dataTable) return;\n",
              "\n",
              "          const docLinkHtml = 'Like what you see? Visit the ' +\n",
              "            '<a target=\"_blank\" href=https://colab.research.google.com/notebooks/data_table.ipynb>data table notebook</a>'\n",
              "            + ' to learn more about interactive tables.';\n",
              "          element.innerHTML = '';\n",
              "          dataTable['output_type'] = 'display_data';\n",
              "          await google.colab.output.renderOutput(dataTable, element);\n",
              "          const docLink = document.createElement('div');\n",
              "          docLink.innerHTML = docLinkHtml;\n",
              "          element.appendChild(docLink);\n",
              "        }\n",
              "      </script>\n",
              "    </div>\n",
              "  </div>\n",
              "  "
            ]
          },
          "metadata": {},
          "execution_count": 29
        }
      ]
    },
    {
      "cell_type": "markdown",
      "source": [
        "We can conclude that most number of matches has been played in 2013 i.e 76 matches."
      ],
      "metadata": {
        "id": "PcawgVyGrXK4"
      }
    },
    {
      "cell_type": "code",
      "source": [
        "sns.countplot(data['Season'])\n",
        "plt.xlabel('Seasons', fontsize  = 12 )\n",
        "plt.ylabel('Matches', fontsize = 12)\n",
        "plt.title('Matches Played Per Season', fontsize = 15, fontweight = 'bold')"
      ],
      "metadata": {
        "id": "chsyrrktq9eR",
        "colab": {
          "base_uri": "https://localhost:8080/",
          "height": 375
        },
        "outputId": "97465ba1-58e0-49d0-8dea-fc40aca2820f"
      },
      "execution_count": null,
      "outputs": [
        {
          "output_type": "stream",
          "name": "stderr",
          "text": [
            "/usr/local/lib/python3.7/dist-packages/seaborn/_decorators.py:43: FutureWarning: Pass the following variable as a keyword arg: x. From version 0.12, the only valid positional argument will be `data`, and passing other arguments without an explicit keyword will result in an error or misinterpretation.\n",
            "  FutureWarning\n"
          ]
        },
        {
          "output_type": "execute_result",
          "data": {
            "text/plain": [
              "Text(0.5, 1.0, 'Matches Played Per Season')"
            ]
          },
          "metadata": {},
          "execution_count": 30
        },
        {
          "output_type": "display_data",
          "data": {
            "text/plain": [
              "<Figure size 432x288 with 1 Axes>"
            ],
            "image/png": "[encoded data removed]"
          },
          "metadata": {
            "needs_background": "light"
          }
        }
      ]
    },
    {
      "cell_type": "markdown",
      "source": [
        "Total matches won by each team"
      ],
      "metadata": {
        "id": "u2-5I3hV0c_G"
      }
    },
    {
      "cell_type": "code",
      "source": [
        "winner_df = data.groupby('winner')[['id']].count()\n",
        "winner_df = winner_df.sort_values('id', ascending=False).reset_index()\n",
        "# winner_df=winner_df[:][winner_df['winner']!='Draw/Cancelled']\n",
        "winner_df"
      ],
      "metadata": {
        "id": "xkaKhckMrK_7",
        "colab": {
          "base_uri": "https://localhost:8080/",
          "height": 457
        },
        "outputId": "afec56ca-3593-4e27-e3aa-e84db4197aa2"
      },
      "execution_count": null,
      "outputs": [
        {
          "output_type": "execute_result",
          "data": {
            "text/plain": [
              "                         winner   id\n",
              "0                Mumbai Indians  109\n",
              "1           Chennai Super Kings  100\n",
              "2         Kolkata Knight Riders   92\n",
              "3   Royal Challengers Bangalore   84\n",
              "4               Kings XI Punjab   82\n",
              "5                Delhi Capitals   77\n",
              "6              Rajasthan Royals   75\n",
              "7           Sunrisers Hyderabad   58\n",
              "8               Deccan Chargers   29\n",
              "9        Rising Pune Supergiant   27\n",
              "10                Gujarat Lions   13\n",
              "11         Kochi Tuskers Kerala    6\n",
              "12               Draw/Cancelled    4"
            ],
            "text/html": [
              "\n",
              "  <div id=\"df-cef48579-d6e9-4d56-81f5-4924c8d1440f\">\n",
              "    <div class=\"colab-df-container\">\n",
              "      <div>\n",
              "<style scoped>\n",
              "    .dataframe tbody tr th:only-of-type {\n",
              "        vertical-align: middle;\n",
              "    }\n",
              "\n",
              "    .dataframe tbody tr th {\n",
              "        vertical-align: top;\n",
              "    }\n",
              "\n",
              "    .dataframe thead th {\n",
              "        text-align: right;\n",
              "    }\n",
              "</style>\n",
              "<table border=\"1\" class=\"dataframe\">\n",
              "  <thead>\n",
              "    <tr style=\"text-align: right;\">\n",
              "      <th></th>\n",
              "      <th>winner</th>\n",
              "      <th>id</th>\n",
              "    </tr>\n",
              "  </thead>\n",
              "  <tbody>\n",
              "    <tr>\n",
              "      <th>0</th>\n",
              "      <td>Mumbai Indians</td>\n",
              "      <td>109</td>\n",
              "    </tr>\n",
              "    <tr>\n",
              "      <th>1</th>\n",
              "      <td>Chennai Super Kings</td>\n",
              "      <td>100</td>\n",
              "    </tr>\n",
              "    <tr>\n",
              "      <th>2</th>\n",
              "      <td>Kolkata Knight Riders</td>\n",
              "      <td>92</td>\n",
              "    </tr>\n",
              "    <tr>\n",
              "      <th>3</th>\n",
              "      <td>Royal Challengers Bangalore</td>\n",
              "      <td>84</td>\n",
              "    </tr>\n",
              "    <tr>\n",
              "      <th>4</th>\n",
              "      <td>Kings XI Punjab</td>\n",
              "      <td>82</td>\n",
              "    </tr>\n",
              "    <tr>\n",
              "      <th>5</th>\n",
              "      <td>Delhi Capitals</td>\n",
              "      <td>77</td>\n",
              "    </tr>\n",
              "    <tr>\n",
              "      <th>6</th>\n",
              "      <td>Rajasthan Royals</td>\n",
              "      <td>75</td>\n",
              "    </tr>\n",
              "    <tr>\n",
              "      <th>7</th>\n",
              "      <td>Sunrisers Hyderabad</td>\n",
              "      <td>58</td>\n",
              "    </tr>\n",
              "    <tr>\n",
              "      <th>8</th>\n",
              "      <td>Deccan Chargers</td>\n",
              "      <td>29</td>\n",
              "    </tr>\n",
              "    <tr>\n",
              "      <th>9</th>\n",
              "      <td>Rising Pune Supergiant</td>\n",
              "      <td>27</td>\n",
              "    </tr>\n",
              "    <tr>\n",
              "      <th>10</th>\n",
              "      <td>Gujarat Lions</td>\n",
              "      <td>13</td>\n",
              "    </tr>\n",
              "    <tr>\n",
              "      <th>11</th>\n",
              "      <td>Kochi Tuskers Kerala</td>\n",
              "      <td>6</td>\n",
              "    </tr>\n",
              "    <tr>\n",
              "      <th>12</th>\n",
              "      <td>Draw/Cancelled</td>\n",
              "      <td>4</td>\n",
              "    </tr>\n",
              "  </tbody>\n",
              "</table>\n",
              "</div>\n",
              "      <button class=\"colab-df-convert\" onclick=\"convertToInteractive('df-cef48579-d6e9-4d56-81f5-4924c8d1440f')\"\n",
              "              title=\"Convert this dataframe to an interactive table.\"\n",
              "              style=\"display:none;\">\n",
              "        \n",
              "  <svg xmlns=\"http://www.w3.org/2000/svg\" height=\"24px\"viewBox=\"0 0 24 24\"\n",
              "       width=\"24px\">\n",
              "    <path d=\"M0 0h24v24H0V0z\" fill=\"none\"/>\n",
              "    <path d=\"M18.56 5.44l.94 2.06.94-2.06 2.06-.94-2.06-.94-.94-2.06-.94 2.06-2.06.94zm-11 1L8.5 8.5l.94-2.06 2.06-.94-2.06-.94L8.5 2.5l-.94 2.06-2.06.94zm10 10l.94 2.06.94-2.06 2.06-.94-2.06-.94-.94-2.06-.94 2.06-2.06.94z\"/><path d=\"M17.41 7.96l-1.37-1.37c-.4-.4-.92-.59-1.43-.59-.52 0-1.04.2-1.43.59L10.3 9.45l-7.72 7.72c-.78.78-.78 2.05 0 2.83L4 21.41c.39.39.9.59 1.41.59.51 0 1.02-.2 1.41-.59l7.78-7.78 2.81-2.81c.8-.78.8-2.07 0-2.86zM5.41 20L4 18.59l7.72-7.72 1.47 1.35L5.41 20z\"/>\n",
              "  </svg>\n",
              "      </button>\n",
              "      \n",
              "  <style>\n",
              "    .colab-df-container {\n",
              "      display:flex;\n",
              "      flex-wrap:wrap;\n",
              "      gap: 12px;\n",
              "    }\n",
              "\n",
              "    .colab-df-convert {\n",
              "      background-color: #E8F0FE;\n",
              "      border: none;\n",
              "      border-radius: 50%;\n",
              "      cursor: pointer;\n",
              "      display: none;\n",
              "      fill: #1967D2;\n",
              "      height: 32px;\n",
              "      padding: 0 0 0 0;\n",
              "      width: 32px;\n",
              "    }\n",
              "\n",
              "    .colab-df-convert:hover {\n",
              "      background-color: #E2EBFA;\n",
              "      box-shadow: 0px 1px 2px rgba(60, 64, 67, 0.3), 0px 1px 3px 1px rgba(60, 64, 67, 0.15);\n",
              "      fill: #174EA6;\n",
              "    }\n",
              "\n",
              "    [theme=dark] .colab-df-convert {\n",
              "      background-color: #3B4455;\n",
              "      fill: #D2E3FC;\n",
              "    }\n",
              "\n",
              "    [theme=dark] .colab-df-convert:hover {\n",
              "      background-color: #434B5C;\n",
              "      box-shadow: 0px 1px 3px 1px rgba(0, 0, 0, 0.15);\n",
              "      filter: drop-shadow(0px 1px 2px rgba(0, 0, 0, 0.3));\n",
              "      fill: #FFFFFF;\n",
              "    }\n",
              "  </style>\n",
              "\n",
              "      <script>\n",
              "        const buttonEl =\n",
              "          document.querySelector('#df-cef48579-d6e9-4d56-81f5-4924c8d1440f button.colab-df-convert');\n",
              "        buttonEl.style.display =\n",
              "          google.colab.kernel.accessAllowed ? 'block' : 'none';\n",
              "\n",
              "        async function convertToInteractive(key) {\n",
              "          const element = document.querySelector('#df-cef48579-d6e9-4d56-81f5-4924c8d1440f');\n",
              "          const dataTable =\n",
              "            await google.colab.kernel.invokeFunction('convertToInteractive',\n",
              "                                                     [key], {});\n",
              "          if (!dataTable) return;\n",
              "\n",
              "          const docLinkHtml = 'Like what you see? Visit the ' +\n",
              "            '<a target=\"_blank\" href=https://colab.research.google.com/notebooks/data_table.ipynb>data table notebook</a>'\n",
              "            + ' to learn more about interactive tables.';\n",
              "          element.innerHTML = '';\n",
              "          dataTable['output_type'] = 'display_data';\n",
              "          await google.colab.output.renderOutput(dataTable, element);\n",
              "          const docLink = document.createElement('div');\n",
              "          docLink.innerHTML = docLinkHtml;\n",
              "          element.appendChild(docLink);\n",
              "        }\n",
              "      </script>\n",
              "    </div>\n",
              "  </div>\n",
              "  "
            ]
          },
          "metadata": {},
          "execution_count": 31
        }
      ]
    },
    {
      "cell_type": "code",
      "source": [
        "plt.figure(figsize=(15,7))\n",
        "plt.xlabel('winner',fontsize=20)\n",
        "plt.ylabel('id',fontsize=20)\n",
        "plt.xticks(rotation=90)\n",
        "plt.title('Matches Won By Each Team',fontsize=20,bbox={'facecolor':'0.9','pad':6},pad=25);\n",
        "plt.bar(winner_df.winner, winner_df.id, color = ['blue','#FFD801','#461B7E','#C11B17','red','#000080','#F535AA','#F87217','#BCC6CC','#2C04A2','#E04F16','#632B72'])"
      ],
      "metadata": {
        "colab": {
          "base_uri": "https://localhost:8080/",
          "height": 644
        },
        "id": "CKicBWha0xF1",
        "outputId": "68ac89db-76c3-4a8e-c193-e8d2629683fe"
      },
      "execution_count": null,
      "outputs": [
        {
          "output_type": "execute_result",
          "data": {
            "text/plain": [
              "<BarContainer object of 13 artists>"
            ]
          },
          "metadata": {},
          "execution_count": 32
        },
        {
          "output_type": "display_data",
          "data": {
            "text/plain": [
              "<Figure size 1080x504 with 1 Axes>"
            ],
            "image/png": "[encoded data removed]"
          },
          "metadata": {
            "needs_background": "light"
          }
        }
      ]
    },
    {
      "cell_type": "markdown",
      "source": [
        "From above bar chart,it seems that Mumbai Indians won most number of matches(109) followed by Chennai Super Kings(100) and Kolkata Knight Riders(92)"
      ],
      "metadata": {
        "id": "OFb55Bz23CHZ"
      }
    },
    {
      "cell_type": "markdown",
      "source": [
        "Most preferred Decision On winning Toss i.e. Bat / Field \n",
        "\n",
        "And visualize it for better understanding"
      ],
      "metadata": {
        "id": "-pd-lwdt3YhC"
      }
    },
    {
      "cell_type": "code",
      "source": [
        "decision_df = data.groupby('toss_decision')[['id']].count()\n",
        "decision_df = decision_df.sort_values('id').reset_index()\n",
        "decision_df"
      ],
      "metadata": {
        "colab": {
          "base_uri": "https://localhost:8080/",
          "height": 112
        },
        "id": "_7envN-q3Bg-",
        "outputId": "fcb6b3b6-edf3-43e5-8ea4-bff3688d0adc"
      },
      "execution_count": null,
      "outputs": [
        {
          "output_type": "execute_result",
          "data": {
            "text/plain": [
              "  toss_decision   id\n",
              "0           bat  293\n",
              "1         field  463"
            ],
            "text/html": [
              "\n",
              "  <div id=\"df-7a835241-b24d-458e-9470-546a5f3da549\">\n",
              "    <div class=\"colab-df-container\">\n",
              "      <div>\n",
              "<style scoped>\n",
              "    .dataframe tbody tr th:only-of-type {\n",
              "        vertical-align: middle;\n",
              "    }\n",
              "\n",
              "    .dataframe tbody tr th {\n",
              "        vertical-align: top;\n",
              "    }\n",
              "\n",
              "    .dataframe thead th {\n",
              "        text-align: right;\n",
              "    }\n",
              "</style>\n",
              "<table border=\"1\" class=\"dataframe\">\n",
              "  <thead>\n",
              "    <tr style=\"text-align: right;\">\n",
              "      <th></th>\n",
              "      <th>toss_decision</th>\n",
              "      <th>id</th>\n",
              "    </tr>\n",
              "  </thead>\n",
              "  <tbody>\n",
              "    <tr>\n",
              "      <th>0</th>\n",
              "      <td>bat</td>\n",
              "      <td>293</td>\n",
              "    </tr>\n",
              "    <tr>\n",
              "      <th>1</th>\n",
              "      <td>field</td>\n",
              "      <td>463</td>\n",
              "    </tr>\n",
              "  </tbody>\n",
              "</table>\n",
              "</div>\n",
              "      <button class=\"colab-df-convert\" onclick=\"convertToInteractive('df-7a835241-b24d-458e-9470-546a5f3da549')\"\n",
              "              title=\"Convert this dataframe to an interactive table.\"\n",
              "              style=\"display:none;\">\n",
              "        \n",
              "  <svg xmlns=\"http://www.w3.org/2000/svg\" height=\"24px\"viewBox=\"0 0 24 24\"\n",
              "       width=\"24px\">\n",
              "    <path d=\"M0 0h24v24H0V0z\" fill=\"none\"/>\n",
              "    <path d=\"M18.56 5.44l.94 2.06.94-2.06 2.06-.94-2.06-.94-.94-2.06-.94 2.06-2.06.94zm-11 1L8.5 8.5l.94-2.06 2.06-.94-2.06-.94L8.5 2.5l-.94 2.06-2.06.94zm10 10l.94 2.06.94-2.06 2.06-.94-2.06-.94-.94-2.06-.94 2.06-2.06.94z\"/><path d=\"M17.41 7.96l-1.37-1.37c-.4-.4-.92-.59-1.43-.59-.52 0-1.04.2-1.43.59L10.3 9.45l-7.72 7.72c-.78.78-.78 2.05 0 2.83L4 21.41c.39.39.9.59 1.41.59.51 0 1.02-.2 1.41-.59l7.78-7.78 2.81-2.81c.8-.78.8-2.07 0-2.86zM5.41 20L4 18.59l7.72-7.72 1.47 1.35L5.41 20z\"/>\n",
              "  </svg>\n",
              "      </button>\n",
              "      \n",
              "  <style>\n",
              "    .colab-df-container {\n",
              "      display:flex;\n",
              "      flex-wrap:wrap;\n",
              "      gap: 12px;\n",
              "    }\n",
              "\n",
              "    .colab-df-convert {\n",
              "      background-color: #E8F0FE;\n",
              "      border: none;\n",
              "      border-radius: 50%;\n",
              "      cursor: pointer;\n",
              "      display: none;\n",
              "      fill: #1967D2;\n",
              "      height: 32px;\n",
              "      padding: 0 0 0 0;\n",
              "      width: 32px;\n",
              "    }\n",
              "\n",
              "    .colab-df-convert:hover {\n",
              "      background-color: #E2EBFA;\n",
              "      box-shadow: 0px 1px 2px rgba(60, 64, 67, 0.3), 0px 1px 3px 1px rgba(60, 64, 67, 0.15);\n",
              "      fill: #174EA6;\n",
              "    }\n",
              "\n",
              "    [theme=dark] .colab-df-convert {\n",
              "      background-color: #3B4455;\n",
              "      fill: #D2E3FC;\n",
              "    }\n",
              "\n",
              "    [theme=dark] .colab-df-convert:hover {\n",
              "      background-color: #434B5C;\n",
              "      box-shadow: 0px 1px 3px 1px rgba(0, 0, 0, 0.15);\n",
              "      filter: drop-shadow(0px 1px 2px rgba(0, 0, 0, 0.3));\n",
              "      fill: #FFFFFF;\n",
              "    }\n",
              "  </style>\n",
              "\n",
              "      <script>\n",
              "        const buttonEl =\n",
              "          document.querySelector('#df-7a835241-b24d-458e-9470-546a5f3da549 button.colab-df-convert');\n",
              "        buttonEl.style.display =\n",
              "          google.colab.kernel.accessAllowed ? 'block' : 'none';\n",
              "\n",
              "        async function convertToInteractive(key) {\n",
              "          const element = document.querySelector('#df-7a835241-b24d-458e-9470-546a5f3da549');\n",
              "          const dataTable =\n",
              "            await google.colab.kernel.invokeFunction('convertToInteractive',\n",
              "                                                     [key], {});\n",
              "          if (!dataTable) return;\n",
              "\n",
              "          const docLinkHtml = 'Like what you see? Visit the ' +\n",
              "            '<a target=\"_blank\" href=https://colab.research.google.com/notebooks/data_table.ipynb>data table notebook</a>'\n",
              "            + ' to learn more about interactive tables.';\n",
              "          element.innerHTML = '';\n",
              "          dataTable['output_type'] = 'display_data';\n",
              "          await google.colab.output.renderOutput(dataTable, element);\n",
              "          const docLink = document.createElement('div');\n",
              "          docLink.innerHTML = docLinkHtml;\n",
              "          element.appendChild(docLink);\n",
              "        }\n",
              "      </script>\n",
              "    </div>\n",
              "  </div>\n",
              "  "
            ]
          },
          "metadata": {},
          "execution_count": 33
        }
      ]
    },
    {
      "cell_type": "code",
      "source": [
        "sns.boxenplot(x=\"toss_decision\", y=\"id\",\n",
        "              color=\"purple\", data=data)"
      ],
      "metadata": {
        "colab": {
          "base_uri": "https://localhost:8080/",
          "height": 299
        },
        "id": "SdIvZ1hX16SH",
        "outputId": "60bcf9cd-0df3-4e0f-e64b-955fcad7e269"
      },
      "execution_count": null,
      "outputs": [
        {
          "output_type": "execute_result",
          "data": {
            "text/plain": [
              "<matplotlib.axes._subplots.AxesSubplot at 0x7f4a44dd2bd0>"
            ]
          },
          "metadata": {},
          "execution_count": 34
        },
        {
          "output_type": "display_data",
          "data": {
            "text/plain": [
              "<Figure size 432x288 with 1 Axes>"
            ],
            "image/png": "[encoded data removed]"
          },
          "metadata": {
            "needs_background": "light"
          }
        }
      ]
    },
    {
      "cell_type": "markdown",
      "source": [
        "The Most Preferred Decision After Winning Toss in the IPL Until 2019 has been \"Choose to Field First\""
      ],
      "metadata": {
        "id": "j25653Gc4ls0"
      }
    },
    {
      "cell_type": "markdown",
      "source": [
        "Which Venue(Stadium) has hosted the most number of matches?"
      ],
      "metadata": {
        "id": "UpMFnfWq9oKl"
      }
    },
    {
      "cell_type": "code",
      "source": [
        "venue_df=data.groupby('venue')[['id']].count()\n",
        "venue_df = venue_df.sort_values('id',ascending=False).reset_index()\n",
        "venue_df"
      ],
      "metadata": {
        "colab": {
          "base_uri": "https://localhost:8080/",
          "height": 1000
        },
        "id": "rW8AW8MF4YZu",
        "outputId": "d2fc99bb-1abf-4ba0-cc1d-e7942e41353e"
      },
      "execution_count": null,
      "outputs": [
        {
          "output_type": "execute_result",
          "data": {
            "text/plain": [
              "                                                venue  id\n",
              "0                                        Eden Gardens  77\n",
              "1                                    Wankhede Stadium  73\n",
              "2                               M Chinnaswamy Stadium  73\n",
              "3                                    Feroz Shah Kotla  67\n",
              "4           Rajiv Gandhi International Stadium, Uppal  56\n",
              "5                     MA Chidambaram Stadium, Chepauk  49\n",
              "6                              Sawai Mansingh Stadium  47\n",
              "7          Punjab Cricket Association Stadium, Mohali  35\n",
              "8             Maharashtra Cricket Association Stadium  21\n",
              "9                          Dr DY Patil Sports Academy  17\n",
              "10                         Subrata Roy Sahara Stadium  17\n",
              "11                                          Kingsmead  15\n",
              "12  Punjab Cricket Association IS Bindra Stadium, ...  14\n",
              "13                                    SuperSport Park  12\n",
              "14                       Sardar Patel Stadium, Motera  12\n",
              "15  Dr. Y.S. Rajasekhara Reddy ACA-VDCA Cricket St...  11\n",
              "16                                  Brabourne Stadium  11\n",
              "17             Saurashtra Cricket Association Stadium  10\n",
              "18       Himachal Pradesh Cricket Association Stadium   9\n",
              "19                             Holkar Cricket Stadium   9\n",
              "20                 Rajiv Gandhi Intl. Cricket Stadium   8\n",
              "21                              New Wanderers Stadium   8\n",
              "22                          M. A. Chidambaram Stadium   8\n",
              "23                                  IS Bindra Stadium   7\n",
              "24                                           Newlands   7\n",
              "25                            Feroz Shah Kotla Ground   7\n",
              "26                                   Barabati Stadium   7\n",
              "27                             M. Chinnaswamy Stadium   7\n",
              "28                                   St George's Park   7\n",
              "29                 JSCA International Stadium Complex   7\n",
              "30                Dubai International Cricket Stadium   7\n",
              "31                               Sheikh Zayed Stadium   7\n",
              "32                            Sharjah Cricket Stadium   6\n",
              "33   Shaheed Veer Narayan Singh International Stadium   6\n",
              "34                                      Nehru Stadium   5\n",
              "35                                         Green Park   4\n",
              "36                                       Buffalo Park   3\n",
              "37                              De Beers Diamond Oval   3\n",
              "38       Vidarbha Cricket Association Stadium, Jamtha   3\n",
              "39                                    OUTsurance Oval   2\n",
              "40                                   ACA-VDCA Stadium   2"
            ],
            "text/html": [
              "\n",
              "  <div id=\"df-1a3c1f5e-f062-47c9-abdc-b25a204a7bcb\">\n",
              "    <div class=\"colab-df-container\">\n",
              "      <div>\n",
              "<style scoped>\n",
              "    .dataframe tbody tr th:only-of-type {\n",
              "        vertical-align: middle;\n",
              "    }\n",
              "\n",
              "    .dataframe tbody tr th {\n",
              "        vertical-align: top;\n",
              "    }\n",
              "\n",
              "    .dataframe thead th {\n",
              "        text-align: right;\n",
              "    }\n",
              "</style>\n",
              "<table border=\"1\" class=\"dataframe\">\n",
              "  <thead>\n",
              "    <tr style=\"text-align: right;\">\n",
              "      <th></th>\n",
              "      <th>venue</th>\n",
              "      <th>id</th>\n",
              "    </tr>\n",
              "  </thead>\n",
              "  <tbody>\n",
              "    <tr>\n",
              "      <th>0</th>\n",
              "      <td>Eden Gardens</td>\n",
              "      <td>77</td>\n",
              "    </tr>\n",
              "    <tr>\n",
              "      <th>1</th>\n",
              "      <td>Wankhede Stadium</td>\n",
              "      <td>73</td>\n",
              "    </tr>\n",
              "    <tr>\n",
              "      <th>2</th>\n",
              "      <td>M Chinnaswamy Stadium</td>\n",
              "      <td>73</td>\n",
              "    </tr>\n",
              "    <tr>\n",
              "      <th>3</th>\n",
              "      <td>Feroz Shah Kotla</td>\n",
              "      <td>67</td>\n",
              "    </tr>\n",
              "    <tr>\n",
              "      <th>4</th>\n",
              "      <td>Rajiv Gandhi International Stadium, Uppal</td>\n",
              "      <td>56</td>\n",
              "    </tr>\n",
              "    <tr>\n",
              "      <th>5</th>\n",
              "      <td>MA Chidambaram Stadium, Chepauk</td>\n",
              "      <td>49</td>\n",
              "    </tr>\n",
              "    <tr>\n",
              "      <th>6</th>\n",
              "      <td>Sawai Mansingh Stadium</td>\n",
              "      <td>47</td>\n",
              "    </tr>\n",
              "    <tr>\n",
              "      <th>7</th>\n",
              "      <td>Punjab Cricket Association Stadium, Mohali</td>\n",
              "      <td>35</td>\n",
              "    </tr>\n",
              "    <tr>\n",
              "      <th>8</th>\n",
              "      <td>Maharashtra Cricket Association Stadium</td>\n",
              "      <td>21</td>\n",
              "    </tr>\n",
              "    <tr>\n",
              "      <th>9</th>\n",
              "      <td>Dr DY Patil Sports Academy</td>\n",
              "      <td>17</td>\n",
              "    </tr>\n",
              "    <tr>\n",
              "      <th>10</th>\n",
              "      <td>Subrata Roy Sahara Stadium</td>\n",
              "      <td>17</td>\n",
              "    </tr>\n",
              "    <tr>\n",
              "      <th>11</th>\n",
              "      <td>Kingsmead</td>\n",
              "      <td>15</td>\n",
              "    </tr>\n",
              "    <tr>\n",
              "      <th>12</th>\n",
              "      <td>Punjab Cricket Association IS Bindra Stadium, ...</td>\n",
              "      <td>14</td>\n",
              "    </tr>\n",
              "    <tr>\n",
              "      <th>13</th>\n",
              "      <td>SuperSport Park</td>\n",
              "      <td>12</td>\n",
              "    </tr>\n",
              "    <tr>\n",
              "      <th>14</th>\n",
              "      <td>Sardar Patel Stadium, Motera</td>\n",
              "      <td>12</td>\n",
              "    </tr>\n",
              "    <tr>\n",
              "      <th>15</th>\n",
              "      <td>Dr. Y.S. Rajasekhara Reddy ACA-VDCA Cricket St...</td>\n",
              "      <td>11</td>\n",
              "    </tr>\n",
              "    <tr>\n",
              "      <th>16</th>\n",
              "      <td>Brabourne Stadium</td>\n",
              "      <td>11</td>\n",
              "    </tr>\n",
              "    <tr>\n",
              "      <th>17</th>\n",
              "      <td>Saurashtra Cricket Association Stadium</td>\n",
              "      <td>10</td>\n",
              "    </tr>\n",
              "    <tr>\n",
              "      <th>18</th>\n",
              "      <td>Himachal Pradesh Cricket Association Stadium</td>\n",
              "      <td>9</td>\n",
              "    </tr>\n",
              "    <tr>\n",
              "      <th>19</th>\n",
              "      <td>Holkar Cricket Stadium</td>\n",
              "      <td>9</td>\n",
              "    </tr>\n",
              "    <tr>\n",
              "      <th>20</th>\n",
              "      <td>Rajiv Gandhi Intl. Cricket Stadium</td>\n",
              "      <td>8</td>\n",
              "    </tr>\n",
              "    <tr>\n",
              "      <th>21</th>\n",
              "      <td>New Wanderers Stadium</td>\n",
              "      <td>8</td>\n",
              "    </tr>\n",
              "    <tr>\n",
              "      <th>22</th>\n",
              "      <td>M. A. Chidambaram Stadium</td>\n",
              "      <td>8</td>\n",
              "    </tr>\n",
              "    <tr>\n",
              "      <th>23</th>\n",
              "      <td>IS Bindra Stadium</td>\n",
              "      <td>7</td>\n",
              "    </tr>\n",
              "    <tr>\n",
              "      <th>24</th>\n",
              "      <td>Newlands</td>\n",
              "      <td>7</td>\n",
              "    </tr>\n",
              "    <tr>\n",
              "      <th>25</th>\n",
              "      <td>Feroz Shah Kotla Ground</td>\n",
              "      <td>7</td>\n",
              "    </tr>\n",
              "    <tr>\n",
              "      <th>26</th>\n",
              "      <td>Barabati Stadium</td>\n",
              "      <td>7</td>\n",
              "    </tr>\n",
              "    <tr>\n",
              "      <th>27</th>\n",
              "      <td>M. Chinnaswamy Stadium</td>\n",
              "      <td>7</td>\n",
              "    </tr>\n",
              "    <tr>\n",
              "      <th>28</th>\n",
              "      <td>St George's Park</td>\n",
              "      <td>7</td>\n",
              "    </tr>\n",
              "    <tr>\n",
              "      <th>29</th>\n",
              "      <td>JSCA International Stadium Complex</td>\n",
              "      <td>7</td>\n",
              "    </tr>\n",
              "    <tr>\n",
              "      <th>30</th>\n",
              "      <td>Dubai International Cricket Stadium</td>\n",
              "      <td>7</td>\n",
              "    </tr>\n",
              "    <tr>\n",
              "      <th>31</th>\n",
              "      <td>Sheikh Zayed Stadium</td>\n",
              "      <td>7</td>\n",
              "    </tr>\n",
              "    <tr>\n",
              "      <th>32</th>\n",
              "      <td>Sharjah Cricket Stadium</td>\n",
              "      <td>6</td>\n",
              "    </tr>\n",
              "    <tr>\n",
              "      <th>33</th>\n",
              "      <td>Shaheed Veer Narayan Singh International Stadium</td>\n",
              "      <td>6</td>\n",
              "    </tr>\n",
              "    <tr>\n",
              "      <th>34</th>\n",
              "      <td>Nehru Stadium</td>\n",
              "      <td>5</td>\n",
              "    </tr>\n",
              "    <tr>\n",
              "      <th>35</th>\n",
              "      <td>Green Park</td>\n",
              "      <td>4</td>\n",
              "    </tr>\n",
              "    <tr>\n",
              "      <th>36</th>\n",
              "      <td>Buffalo Park</td>\n",
              "      <td>3</td>\n",
              "    </tr>\n",
              "    <tr>\n",
              "      <th>37</th>\n",
              "      <td>De Beers Diamond Oval</td>\n",
              "      <td>3</td>\n",
              "    </tr>\n",
              "    <tr>\n",
              "      <th>38</th>\n",
              "      <td>Vidarbha Cricket Association Stadium, Jamtha</td>\n",
              "      <td>3</td>\n",
              "    </tr>\n",
              "    <tr>\n",
              "      <th>39</th>\n",
              "      <td>OUTsurance Oval</td>\n",
              "      <td>2</td>\n",
              "    </tr>\n",
              "    <tr>\n",
              "      <th>40</th>\n",
              "      <td>ACA-VDCA Stadium</td>\n",
              "      <td>2</td>\n",
              "    </tr>\n",
              "  </tbody>\n",
              "</table>\n",
              "</div>\n",
              "      <button class=\"colab-df-convert\" onclick=\"convertToInteractive('df-1a3c1f5e-f062-47c9-abdc-b25a204a7bcb')\"\n",
              "              title=\"Convert this dataframe to an interactive table.\"\n",
              "              style=\"display:none;\">\n",
              "        \n",
              "  <svg xmlns=\"http://www.w3.org/2000/svg\" height=\"24px\"viewBox=\"0 0 24 24\"\n",
              "       width=\"24px\">\n",
              "    <path d=\"M0 0h24v24H0V0z\" fill=\"none\"/>\n",
              "    <path d=\"M18.56 5.44l.94 2.06.94-2.06 2.06-.94-2.06-.94-.94-2.06-.94 2.06-2.06.94zm-11 1L8.5 8.5l.94-2.06 2.06-.94-2.06-.94L8.5 2.5l-.94 2.06-2.06.94zm10 10l.94 2.06.94-2.06 2.06-.94-2.06-.94-.94-2.06-.94 2.06-2.06.94z\"/><path d=\"M17.41 7.96l-1.37-1.37c-.4-.4-.92-.59-1.43-.59-.52 0-1.04.2-1.43.59L10.3 9.45l-7.72 7.72c-.78.78-.78 2.05 0 2.83L4 21.41c.39.39.9.59 1.41.59.51 0 1.02-.2 1.41-.59l7.78-7.78 2.81-2.81c.8-.78.8-2.07 0-2.86zM5.41 20L4 18.59l7.72-7.72 1.47 1.35L5.41 20z\"/>\n",
              "  </svg>\n",
              "      </button>\n",
              "      \n",
              "  <style>\n",
              "    .colab-df-container {\n",
              "      display:flex;\n",
              "      flex-wrap:wrap;\n",
              "      gap: 12px;\n",
              "    }\n",
              "\n",
              "    .colab-df-convert {\n",
              "      background-color: #E8F0FE;\n",
              "      border: none;\n",
              "      border-radius: 50%;\n",
              "      cursor: pointer;\n",
              "      display: none;\n",
              "      fill: #1967D2;\n",
              "      height: 32px;\n",
              "      padding: 0 0 0 0;\n",
              "      width: 32px;\n",
              "    }\n",
              "\n",
              "    .colab-df-convert:hover {\n",
              "      background-color: #E2EBFA;\n",
              "      box-shadow: 0px 1px 2px rgba(60, 64, 67, 0.3), 0px 1px 3px 1px rgba(60, 64, 67, 0.15);\n",
              "      fill: #174EA6;\n",
              "    }\n",
              "\n",
              "    [theme=dark] .colab-df-convert {\n",
              "      background-color: #3B4455;\n",
              "      fill: #D2E3FC;\n",
              "    }\n",
              "\n",
              "    [theme=dark] .colab-df-convert:hover {\n",
              "      background-color: #434B5C;\n",
              "      box-shadow: 0px 1px 3px 1px rgba(0, 0, 0, 0.15);\n",
              "      filter: drop-shadow(0px 1px 2px rgba(0, 0, 0, 0.3));\n",
              "      fill: #FFFFFF;\n",
              "    }\n",
              "  </style>\n",
              "\n",
              "      <script>\n",
              "        const buttonEl =\n",
              "          document.querySelector('#df-1a3c1f5e-f062-47c9-abdc-b25a204a7bcb button.colab-df-convert');\n",
              "        buttonEl.style.display =\n",
              "          google.colab.kernel.accessAllowed ? 'block' : 'none';\n",
              "\n",
              "        async function convertToInteractive(key) {\n",
              "          const element = document.querySelector('#df-1a3c1f5e-f062-47c9-abdc-b25a204a7bcb');\n",
              "          const dataTable =\n",
              "            await google.colab.kernel.invokeFunction('convertToInteractive',\n",
              "                                                     [key], {});\n",
              "          if (!dataTable) return;\n",
              "\n",
              "          const docLinkHtml = 'Like what you see? Visit the ' +\n",
              "            '<a target=\"_blank\" href=https://colab.research.google.com/notebooks/data_table.ipynb>data table notebook</a>'\n",
              "            + ' to learn more about interactive tables.';\n",
              "          element.innerHTML = '';\n",
              "          dataTable['output_type'] = 'display_data';\n",
              "          await google.colab.output.renderOutput(dataTable, element);\n",
              "          const docLink = document.createElement('div');\n",
              "          docLink.innerHTML = docLinkHtml;\n",
              "          element.appendChild(docLink);\n",
              "        }\n",
              "      </script>\n",
              "    </div>\n",
              "  </div>\n",
              "  "
            ]
          },
          "metadata": {},
          "execution_count": 35
        }
      ]
    },
    {
      "cell_type": "code",
      "source": [
        "plt.figure(figsize=(20,10))\n",
        "sns.barplot(x='id',y='venue',data=venue_df,palette='rainbow')"
      ],
      "metadata": {
        "colab": {
          "base_uri": "https://localhost:8080/",
          "height": 624
        },
        "id": "fm6iRloP4-Y6",
        "outputId": "1adf59b3-a4d7-465a-ccbe-2b52f41a5942"
      },
      "execution_count": null,
      "outputs": [
        {
          "output_type": "execute_result",
          "data": {
            "text/plain": [
              "<matplotlib.axes._subplots.AxesSubplot at 0x7f4a44d414d0>"
            ]
          },
          "metadata": {},
          "execution_count": 36
        },
        {
          "output_type": "display_data",
          "data": {
            "text/plain": [
              "<Figure size 1440x720 with 1 Axes>"
            ],
            "image/png": "[encoded data removed]"
          },
          "metadata": {
            "needs_background": "light"
          }
        }
      ]
    },
    {
      "cell_type": "markdown",
      "source": [
        "So we can see the most number of matches were played at Eden Gardens(77) followed by Wankhede Stadium (73) and M Chinnaswamy Stadium (73)."
      ],
      "metadata": {
        "id": "OPYkelzm-9pi"
      }
    },
    {
      "cell_type": "markdown",
      "source": [
        " Who has been awarded with Player Of the Match maximum Number Of Times?"
      ],
      "metadata": {
        "id": "6ElxRPTj_Erz"
      }
    },
    {
      "cell_type": "code",
      "source": [
        "pom_df=data.groupby('player_of_match')[['id']].count()\n",
        "pom_df = pom_df.sort_values('id',ascending=False).reset_index()\n",
        "pom_df = pom_df.head(10)\n",
        "pom_df"
      ],
      "metadata": {
        "colab": {
          "base_uri": "https://localhost:8080/",
          "height": 363
        },
        "id": "ers8X100-iJk",
        "outputId": "8b1ecdd0-178c-4b02-e196-4cae42908a7f"
      },
      "execution_count": null,
      "outputs": [
        {
          "output_type": "execute_result",
          "data": {
            "text/plain": [
              "  player_of_match  id\n",
              "0        CH Gayle  21\n",
              "1  AB de Villiers  20\n",
              "2        MS Dhoni  17\n",
              "3       RG Sharma  17\n",
              "4       DA Warner  17\n",
              "5       YK Pathan  16\n",
              "6       SR Watson  15\n",
              "7        SK Raina  14\n",
              "8       G Gambhir  13\n",
              "9       AM Rahane  12"
            ],
            "text/html": [
              "\n",
              "  <div id=\"df-5c1256bc-3726-4913-8917-73dbc4a79751\">\n",
              "    <div class=\"colab-df-container\">\n",
              "      <div>\n",
              "<style scoped>\n",
              "    .dataframe tbody tr th:only-of-type {\n",
              "        vertical-align: middle;\n",
              "    }\n",
              "\n",
              "    .dataframe tbody tr th {\n",
              "        vertical-align: top;\n",
              "    }\n",
              "\n",
              "    .dataframe thead th {\n",
              "        text-align: right;\n",
              "    }\n",
              "</style>\n",
              "<table border=\"1\" class=\"dataframe\">\n",
              "  <thead>\n",
              "    <tr style=\"text-align: right;\">\n",
              "      <th></th>\n",
              "      <th>player_of_match</th>\n",
              "      <th>id</th>\n",
              "    </tr>\n",
              "  </thead>\n",
              "  <tbody>\n",
              "    <tr>\n",
              "      <th>0</th>\n",
              "      <td>CH Gayle</td>\n",
              "      <td>21</td>\n",
              "    </tr>\n",
              "    <tr>\n",
              "      <th>1</th>\n",
              "      <td>AB de Villiers</td>\n",
              "      <td>20</td>\n",
              "    </tr>\n",
              "    <tr>\n",
              "      <th>2</th>\n",
              "      <td>MS Dhoni</td>\n",
              "      <td>17</td>\n",
              "    </tr>\n",
              "    <tr>\n",
              "      <th>3</th>\n",
              "      <td>RG Sharma</td>\n",
              "      <td>17</td>\n",
              "    </tr>\n",
              "    <tr>\n",
              "      <th>4</th>\n",
              "      <td>DA Warner</td>\n",
              "      <td>17</td>\n",
              "    </tr>\n",
              "    <tr>\n",
              "      <th>5</th>\n",
              "      <td>YK Pathan</td>\n",
              "      <td>16</td>\n",
              "    </tr>\n",
              "    <tr>\n",
              "      <th>6</th>\n",
              "      <td>SR Watson</td>\n",
              "      <td>15</td>\n",
              "    </tr>\n",
              "    <tr>\n",
              "      <th>7</th>\n",
              "      <td>SK Raina</td>\n",
              "      <td>14</td>\n",
              "    </tr>\n",
              "    <tr>\n",
              "      <th>8</th>\n",
              "      <td>G Gambhir</td>\n",
              "      <td>13</td>\n",
              "    </tr>\n",
              "    <tr>\n",
              "      <th>9</th>\n",
              "      <td>AM Rahane</td>\n",
              "      <td>12</td>\n",
              "    </tr>\n",
              "  </tbody>\n",
              "</table>\n",
              "</div>\n",
              "      <button class=\"colab-df-convert\" onclick=\"convertToInteractive('df-5c1256bc-3726-4913-8917-73dbc4a79751')\"\n",
              "              title=\"Convert this dataframe to an interactive table.\"\n",
              "              style=\"display:none;\">\n",
              "        \n",
              "  <svg xmlns=\"http://www.w3.org/2000/svg\" height=\"24px\"viewBox=\"0 0 24 24\"\n",
              "       width=\"24px\">\n",
              "    <path d=\"M0 0h24v24H0V0z\" fill=\"none\"/>\n",
              "    <path d=\"M18.56 5.44l.94 2.06.94-2.06 2.06-.94-2.06-.94-.94-2.06-.94 2.06-2.06.94zm-11 1L8.5 8.5l.94-2.06 2.06-.94-2.06-.94L8.5 2.5l-.94 2.06-2.06.94zm10 10l.94 2.06.94-2.06 2.06-.94-2.06-.94-.94-2.06-.94 2.06-2.06.94z\"/><path d=\"M17.41 7.96l-1.37-1.37c-.4-.4-.92-.59-1.43-.59-.52 0-1.04.2-1.43.59L10.3 9.45l-7.72 7.72c-.78.78-.78 2.05 0 2.83L4 21.41c.39.39.9.59 1.41.59.51 0 1.02-.2 1.41-.59l7.78-7.78 2.81-2.81c.8-.78.8-2.07 0-2.86zM5.41 20L4 18.59l7.72-7.72 1.47 1.35L5.41 20z\"/>\n",
              "  </svg>\n",
              "      </button>\n",
              "      \n",
              "  <style>\n",
              "    .colab-df-container {\n",
              "      display:flex;\n",
              "      flex-wrap:wrap;\n",
              "      gap: 12px;\n",
              "    }\n",
              "\n",
              "    .colab-df-convert {\n",
              "      background-color: #E8F0FE;\n",
              "      border: none;\n",
              "      border-radius: 50%;\n",
              "      cursor: pointer;\n",
              "      display: none;\n",
              "      fill: #1967D2;\n",
              "      height: 32px;\n",
              "      padding: 0 0 0 0;\n",
              "      width: 32px;\n",
              "    }\n",
              "\n",
              "    .colab-df-convert:hover {\n",
              "      background-color: #E2EBFA;\n",
              "      box-shadow: 0px 1px 2px rgba(60, 64, 67, 0.3), 0px 1px 3px 1px rgba(60, 64, 67, 0.15);\n",
              "      fill: #174EA6;\n",
              "    }\n",
              "\n",
              "    [theme=dark] .colab-df-convert {\n",
              "      background-color: #3B4455;\n",
              "      fill: #D2E3FC;\n",
              "    }\n",
              "\n",
              "    [theme=dark] .colab-df-convert:hover {\n",
              "      background-color: #434B5C;\n",
              "      box-shadow: 0px 1px 3px 1px rgba(0, 0, 0, 0.15);\n",
              "      filter: drop-shadow(0px 1px 2px rgba(0, 0, 0, 0.3));\n",
              "      fill: #FFFFFF;\n",
              "    }\n",
              "  </style>\n",
              "\n",
              "      <script>\n",
              "        const buttonEl =\n",
              "          document.querySelector('#df-5c1256bc-3726-4913-8917-73dbc4a79751 button.colab-df-convert');\n",
              "        buttonEl.style.display =\n",
              "          google.colab.kernel.accessAllowed ? 'block' : 'none';\n",
              "\n",
              "        async function convertToInteractive(key) {\n",
              "          const element = document.querySelector('#df-5c1256bc-3726-4913-8917-73dbc4a79751');\n",
              "          const dataTable =\n",
              "            await google.colab.kernel.invokeFunction('convertToInteractive',\n",
              "                                                     [key], {});\n",
              "          if (!dataTable) return;\n",
              "\n",
              "          const docLinkHtml = 'Like what you see? Visit the ' +\n",
              "            '<a target=\"_blank\" href=https://colab.research.google.com/notebooks/data_table.ipynb>data table notebook</a>'\n",
              "            + ' to learn more about interactive tables.';\n",
              "          element.innerHTML = '';\n",
              "          dataTable['output_type'] = 'display_data';\n",
              "          await google.colab.output.renderOutput(dataTable, element);\n",
              "          const docLink = document.createElement('div');\n",
              "          docLink.innerHTML = docLinkHtml;\n",
              "          element.appendChild(docLink);\n",
              "        }\n",
              "      </script>\n",
              "    </div>\n",
              "  </div>\n",
              "  "
            ]
          },
          "metadata": {},
          "execution_count": 37
        }
      ]
    },
    {
      "cell_type": "code",
      "source": [
        "sns.barplot(x='player_of_match',y='id',data=pom_df,palette='YlOrBr_r')\n",
        "plt.xticks(rotation=65)\n",
        "plt.xlabel(\"Name of the Player\",size=15)\n",
        "plt.ylabel(\"No. of times\",size=15)"
      ],
      "metadata": {
        "colab": {
          "base_uri": "https://localhost:8080/",
          "height": 356
        },
        "id": "Q70r4P_-_KbS",
        "outputId": "d215acd2-df16-4f59-f60d-d201f93a2066"
      },
      "execution_count": null,
      "outputs": [
        {
          "output_type": "execute_result",
          "data": {
            "text/plain": [
              "Text(0, 0.5, 'No. of times')"
            ]
          },
          "metadata": {},
          "execution_count": 38
        },
        {
          "output_type": "display_data",
          "data": {
            "text/plain": [
              "<Figure size 432x288 with 1 Axes>"
            ],
            "image/png": "[encoded data removed]"
          },
          "metadata": {
            "needs_background": "light"
          }
        }
      ]
    },
    {
      "cell_type": "markdown",
      "source": [
        "CONCLUSIONS: \n",
        "\n",
        "* A total of 756 matches have been played from 2008 - 2019.\n",
        "\n",
        "* Out of these 756 matches 743 matches were played normally and had a normal result.\n",
        "\n",
        "* Most number of Matches were played in Mumbai (101 matches).\n",
        "\n",
        "* Mumbai Indian's Have Won the Most Number of Matches (109) followed by Chennai Super Kings (100 Matches).\n",
        "\n",
        "* IPL-2013 season hosted most number of matches (76).\n",
        "\n",
        "* Eden Gardens (Stadium) Hosted the Most Number of Matches (77) followed by wankhede Stadium (73) and M Chinnaswamy Stadium (73)\n",
        "\n",
        "* Chris Gayle has been the Man Of The Match Most Number of Times with \"21\" Awards followed by AB di Villiers (20) and MS Dhoni (17)\n",
        "\n",
        "* Mumbai Indians Have been the IPL Champions Most number of times (4) followed by Chennai Super Kings (3) and Kolkata Knight Riders(3).\n",
        "\n",
        "* Fielding decision on winning toss has not only been most preferred one but it has also proven to be a good decision as almost 60% of the time it is proved right."
      ],
      "metadata": {
        "id": "YfWljov0_ylQ"
      }
    }
  ]
}